{
  "nbformat": 4,
  "nbformat_minor": 0,
  "metadata": {
    "colab": {
      "provenance": []
    },
    "kernelspec": {
      "name": "python3",
      "display_name": "Python 3"
    },
    "language_info": {
      "name": "python"
    }
  },
  "cells": [
    {
      "cell_type": "markdown",
      "source": [
        "# **Predicting Bitcoin Prices Using Global M2 Money Supply**"
      ],
      "metadata": {
        "id": "q5stipeCxLKW"
      }
    },
    {
      "cell_type": "markdown",
      "source": [
        "Extract, Transform, Load (ETL) for data analysis\n",
        "\n",
        "1. Data collection - extracting M2 money supply data from multiple sources (TradingView, FRED)\n",
        "2. Data cleaning - making sure the datasets have a common format, fixing missing values, and converting currencies\n",
        "3. Data merging - combining multiple datasets into a single structured CSV (merging on the date column)\n",
        "4. Data transformation - converting foreign M2 values to USD and normalizing for data analysus\n",
        "5. Data exporting - daving the final dataset into a CSV file for further analysis"
      ],
      "metadata": {
        "id": "uPzHny0E_KL0"
      }
    },
    {
      "cell_type": "markdown",
      "source": [
        "**Problem Statement**: Can we use changes in the US and Global M2 money supply and other features such as inflation rates, interest rates, stock market indices, and bitcoin trading volume to predict Bitcoin price movements?\n",
        "\n",
        "**Data Sources**:\n",
        "\n",
        "1. Bitcoin Price Data:\n",
        "\n",
        "   * [Yahoo Finance → BTC historical price data](https://finance.yahoo.com/quote/BTC-USD/history/)\n",
        "\n",
        "2. M2 Money Supply Data:\n",
        "\n",
        "   * [Federal Reserve (FRED) → U.S. M2 money supply](https://https://fred.stlouisfed.org/series/M2SL)\n",
        "\n",
        "   * [World - Major Central Bank M2 Money Supply](https://en.macromicro.me/series/4675/global-money-supply-m2) - The \"World - Major Central Bank M2 Money Supply\" data presents the M2 money supply figures of the four major central bank: the Federal Reserve System (Fed) of the United States, the European Central Bank (ECB), the Bank of Japan (BOJ), and the People's Bank of China (PBOC).\n",
        "\n",
        "   * Need to add M2 money supply figures for US, Europe, Japan, & China individually\n",
        "\n",
        "\n",
        "**Key Features & Variables**:\n",
        "\n",
        "1. U.S. M2 Money Supply\n",
        "\n",
        "2. Global M2 Money Supply (monthly)\n",
        "\n",
        "3. Inflation rate - [Consumer Price Index](https://fred.stlouisfed.org/series/CPIAUCSL) (CPI) and [Producer Price Index](https://fred.stlouisfed.org/series/PPIACO) (PPI)\n",
        "\n",
        "4. [Interest rates](https://fred.stlouisfed.org/series/DFF) (Federal Funds Rate)\n",
        "\n",
        "5. Stock market indices ([S&P 500](https://fred.stlouisfed.org/series/SP500), Nasdaq)\n",
        "\n",
        "6. [Bitcoin trading volume](https://finance.yahoo.com/quote/BTC-USD/)\n",
        "\n",
        "**Target Variable**: Bitcoin price (daily, weekly, or monthly)\n",
        "\n",
        "\n",
        "\n",
        "**Business & Practical Impact**:\n",
        "If a strong correlation exists, investors could use M2 trends to anticipate BTC price movements. This project could serve as an early warning system for crypto traders and institutions. Useful for hedge funds, financial analysts, and crypto enthusiasts."
      ],
      "metadata": {
        "id": "l2dXSMtWxR9W"
      }
    },
    {
      "cell_type": "markdown",
      "source": [
        "**Imports**:"
      ],
      "metadata": {
        "id": "te0wY67WzinF"
      }
    },
    {
      "cell_type": "code",
      "source": [
        "import yfinance as yf\n",
        "from pandas_datareader import data as pdr\n",
        "import pandas as pd\n",
        "import numpy as np\n",
        "import matplotlib.pyplot as plt\n",
        "import seaborn as sns"
      ],
      "metadata": {
        "id": "iPhH13P2zhzT"
      },
      "execution_count": 1,
      "outputs": []
    },
    {
      "cell_type": "markdown",
      "source": [
        "**Download bitcoin price data using Yahoo Finance API:**"
      ],
      "metadata": {
        "id": "TLQYEDmd0LN1"
      }
    },
    {
      "cell_type": "code",
      "source": [
        "# Download BTC-USD daily price data\n",
        "btc_data = yf.download(\"BTC-USD\", start=\"2015-01-01\", end=\"2025-03-30\", interval=\"1d\")"
      ],
      "metadata": {
        "colab": {
          "base_uri": "https://localhost:8080/"
        },
        "id": "wBCzvqar3ahm",
        "outputId": "c22c82b6-57d9-4c82-80e0-c22fba0885b5"
      },
      "execution_count": 2,
      "outputs": [
        {
          "output_type": "stream",
          "name": "stdout",
          "text": [
            "YF.download() has changed argument auto_adjust default to True\n"
          ]
        },
        {
          "output_type": "stream",
          "name": "stderr",
          "text": [
            "\r[*********************100%***********************]  1 of 1 completed\n"
          ]
        }
      ]
    },
    {
      "cell_type": "code",
      "source": [
        "# Reset index to remove MultiIndex structure\n",
        "btc_data = btc_data[['Close']].reset_index()"
      ],
      "metadata": {
        "id": "2uzb7_ZK8Gku"
      },
      "execution_count": 3,
      "outputs": []
    },
    {
      "cell_type": "code",
      "source": [
        "# Rename columns\n",
        "btc_data.rename(columns={'Date': 'date', 'Close': 'btc_price'}, inplace=True)"
      ],
      "metadata": {
        "id": "YpG-epKZ8KGI"
      },
      "execution_count": 4,
      "outputs": []
    },
    {
      "cell_type": "code",
      "source": [
        "# Ensure 'date' is in datetime format\n",
        "btc_data['date'] = pd.to_datetime(btc_data['date'])"
      ],
      "metadata": {
        "id": "4q8Upoex8OGT"
      },
      "execution_count": 5,
      "outputs": []
    },
    {
      "cell_type": "code",
      "source": [
        "# Confirm the dataframe structure\n",
        "print(btc_data.info())\n",
        "print(btc_data.head())"
      ],
      "metadata": {
        "colab": {
          "base_uri": "https://localhost:8080/"
        },
        "id": "Q2PISmsQ8Qcg",
        "outputId": "88071489-6c68-42ed-fa2d-67dedfeb5c15"
      },
      "execution_count": null,
      "outputs": [
        {
          "output_type": "stream",
          "name": "stdout",
          "text": [
            "<class 'pandas.core.frame.DataFrame'>\n",
            "RangeIndex: 3741 entries, 0 to 3740\n",
            "Data columns (total 2 columns):\n",
            " #   Column                Non-Null Count  Dtype         \n",
            "---  ------                --------------  -----         \n",
            " 0   (date, )              3741 non-null   datetime64[ns]\n",
            " 1   (btc_price, BTC-USD)  3741 non-null   float64       \n",
            "dtypes: datetime64[ns](1), float64(1)\n",
            "memory usage: 58.6 KB\n",
            "None\n",
            "Price        date   btc_price\n",
            "Ticker                BTC-USD\n",
            "0      2015-01-01  314.248993\n",
            "1      2015-01-02  315.032013\n",
            "2      2015-01-03  281.082001\n",
            "3      2015-01-04  264.195007\n",
            "4      2015-01-05  274.473999\n"
          ]
        }
      ]
    },
    {
      "cell_type": "code",
      "source": [
        "# see bitcoin price on a monthly output over last 10 years\n",
        "btc_data_monthly = btc_data.resample('M', on='date').last()"
      ],
      "metadata": {
        "colab": {
          "base_uri": "https://localhost:8080/"
        },
        "id": "iwW1zUN9_mZc",
        "outputId": "4cbd48fb-c73b-40f3-d1cb-006087b892c0"
      },
      "execution_count": 6,
      "outputs": [
        {
          "output_type": "stream",
          "name": "stderr",
          "text": [
            "<ipython-input-6-71c863112bf6>:2: FutureWarning: 'M' is deprecated and will be removed in a future version, please use 'ME' instead.\n",
            "  btc_data_monthly = btc_data.resample('M', on='date').last()\n",
            "<ipython-input-6-71c863112bf6>:2: PerformanceWarning: dropping on a non-lexsorted multi-index without a level parameter may impact performance.\n",
            "  btc_data_monthly = btc_data.resample('M', on='date').last()\n"
          ]
        }
      ]
    },
    {
      "cell_type": "code",
      "source": [
        "# create a graph that shows the price of bitcoin from 2015 to 2025 using yearly averages\n",
        "plt.figure(figsize=(12, 6))\n",
        "plt.plot(btc_data_monthly.index, btc_data_monthly['btc_price'], marker='o', linestyle='-')\n",
        "# add labels to graph to show the price in usd with a comma\n",
        "plt.gca().yaxis.set_major_formatter(plt.FuncFormatter(lambda x, loc: \"{:,}\".format(int(x))))\n",
        "plt.title('Price History of Bitcoin (2015-2025)')\n",
        "plt.xlabel('Date')\n",
        "plt.ylabel('Price (USD)')\n",
        "# add dollar sign to y axis\n",
        "plt.gca().yaxis.set_major_formatter(plt.FuncFormatter(lambda x, loc: \"${:,.0f}\".format(x)))\n",
        "# change color of line to be dark purple\n",
        "plt.plot(btc_data_monthly.index, btc_data_monthly['btc_price'], color='purple')\n",
        "plt.grid(False)\n",
        "plt.show()"
      ],
      "metadata": {
        "colab": {
          "base_uri": "https://localhost:8080/",
          "height": 564
        },
        "id": "91xaCSr1_v6O",
        "outputId": "40327cb7-917f-48a7-cb59-fd466627ac6e"
      },
      "execution_count": 16,
      "outputs": [
        {
          "output_type": "display_data",
          "data": {
            "text/plain": [
              "<Figure size 1200x600 with 1 Axes>"
            ],
            "image/png": "[encoded data removed]"
          },
          "metadata": {}
        }
      ]
    },
    {
      "cell_type": "code",
      "source": [
        "# create a table of yearly averages\n",
        "btc_data_yearly = btc_data.resample('Y', on='date').last()\n",
        "btc_data_yearly.head(10)\n"
      ],
      "metadata": {
        "colab": {
          "base_uri": "https://localhost:8080/",
          "height": 495
        },
        "id": "I4lAZr4LCD6B",
        "outputId": "304cd178-b0fe-441e-8873-fd3db8f7772e"
      },
      "execution_count": 18,
      "outputs": [
        {
          "output_type": "stream",
          "name": "stderr",
          "text": [
            "<ipython-input-18-0c668596d99d>:2: FutureWarning: 'Y' is deprecated and will be removed in a future version, please use 'YE' instead.\n",
            "  btc_data_yearly = btc_data.resample('Y', on='date').last()\n",
            "<ipython-input-18-0c668596d99d>:2: PerformanceWarning: dropping on a non-lexsorted multi-index without a level parameter may impact performance.\n",
            "  btc_data_yearly = btc_data.resample('Y', on='date').last()\n"
          ]
        },
        {
          "output_type": "execute_result",
          "data": {
            "text/plain": [
              "Price          btc_price\n",
              "Ticker           BTC-USD\n",
              "date                    \n",
              "2015-12-31    430.566986\n",
              "2016-12-31    963.742981\n",
              "2017-12-31  14156.400391\n",
              "2018-12-31   3742.700439\n",
              "2019-12-31   7193.599121\n",
              "2020-12-31  29001.720703\n",
              "2021-12-31  46306.445312\n",
              "2022-12-31  16547.496094\n",
              "2023-12-31  42265.187500\n",
              "2024-12-31  93429.203125"
            ],
            "text/html": [
              "\n",
              "  <div id=\"df-3e85b6ba-12e0-4d6d-8816-b949cbd48dc9\" class=\"colab-df-container\">\n",
              "    <div>\n",
              "<style scoped>\n",
              "    .dataframe tbody tr th:only-of-type {\n",
              "        vertical-align: middle;\n",
              "    }\n",
              "\n",
              "    .dataframe tbody tr th {\n",
              "        vertical-align: top;\n",
              "    }\n",
              "\n",
              "    .dataframe thead tr th {\n",
              "        text-align: left;\n",
              "    }\n",
              "\n",
              "    .dataframe thead tr:last-of-type th {\n",
              "        text-align: right;\n",
              "    }\n",
              "</style>\n",
              "<table border=\"1\" class=\"dataframe\">\n",
              "  <thead>\n",
              "    <tr>\n",
              "      <th>Price</th>\n",
              "      <th>btc_price</th>\n",
              "    </tr>\n",
              "    <tr>\n",
              "      <th>Ticker</th>\n",
              "      <th>BTC-USD</th>\n",
              "    </tr>\n",
              "    <tr>\n",
              "      <th>date</th>\n",
              "      <th></th>\n",
              "    </tr>\n",
              "  </thead>\n",
              "  <tbody>\n",
              "    <tr>\n",
              "      <th>2015-12-31</th>\n",
              "      <td>430.566986</td>\n",
              "    </tr>\n",
              "    <tr>\n",
              "      <th>2016-12-31</th>\n",
              "      <td>963.742981</td>\n",
              "    </tr>\n",
              "    <tr>\n",
              "      <th>2017-12-31</th>\n",
              "      <td>14156.400391</td>\n",
              "    </tr>\n",
              "    <tr>\n",
              "      <th>2018-12-31</th>\n",
              "      <td>3742.700439</td>\n",
              "    </tr>\n",
              "    <tr>\n",
              "      <th>2019-12-31</th>\n",
              "      <td>7193.599121</td>\n",
              "    </tr>\n",
              "    <tr>\n",
              "      <th>2020-12-31</th>\n",
              "      <td>29001.720703</td>\n",
              "    </tr>\n",
              "    <tr>\n",
              "      <th>2021-12-31</th>\n",
              "      <td>46306.445312</td>\n",
              "    </tr>\n",
              "    <tr>\n",
              "      <th>2022-12-31</th>\n",
              "      <td>16547.496094</td>\n",
              "    </tr>\n",
              "    <tr>\n",
              "      <th>2023-12-31</th>\n",
              "      <td>42265.187500</td>\n",
              "    </tr>\n",
              "    <tr>\n",
              "      <th>2024-12-31</th>\n",
              "      <td>93429.203125</td>\n",
              "    </tr>\n",
              "  </tbody>\n",
              "</table>\n",
              "</div>\n",
              "    <div class=\"colab-df-buttons\">\n",
              "\n",
              "  <div class=\"colab-df-container\">\n",
              "    <button class=\"colab-df-convert\" onclick=\"convertToInteractive('df-3e85b6ba-12e0-4d6d-8816-b949cbd48dc9')\"\n",
              "            title=\"Convert this dataframe to an interactive table.\"\n",
              "            style=\"display:none;\">\n",
              "\n",
              "  <svg xmlns=\"http://www.w3.org/2000/svg\" height=\"24px\" viewBox=\"0 -960 960 960\">\n",
              "    <path d=\"M120-120v-720h720v720H120Zm60-500h600v-160H180v160Zm220 220h160v-160H400v160Zm0 220h160v-160H400v160ZM180-400h160v-160H180v160Zm440 0h160v-160H620v160ZM180-180h160v-160H180v160Zm440 0h160v-160H620v160Z\"/>\n",
              "  </svg>\n",
              "    </button>\n",
              "\n",
              "  <style>\n",
              "    .colab-df-container {\n",
              "      display:flex;\n",
              "      gap: 12px;\n",
              "    }\n",
              "\n",
              "    .colab-df-convert {\n",
              "      background-color: #E8F0FE;\n",
              "      border: none;\n",
              "      border-radius: 50%;\n",
              "      cursor: pointer;\n",
              "      display: none;\n",
              "      fill: #1967D2;\n",
              "      height: 32px;\n",
              "      padding: 0 0 0 0;\n",
              "      width: 32px;\n",
              "    }\n",
              "\n",
              "    .colab-df-convert:hover {\n",
              "      background-color: #E2EBFA;\n",
              "      box-shadow: 0px 1px 2px rgba(60, 64, 67, 0.3), 0px 1px 3px 1px rgba(60, 64, 67, 0.15);\n",
              "      fill: #174EA6;\n",
              "    }\n",
              "\n",
              "    .colab-df-buttons div {\n",
              "      margin-bottom: 4px;\n",
              "    }\n",
              "\n",
              "    [theme=dark] .colab-df-convert {\n",
              "      background-color: #3B4455;\n",
              "      fill: #D2E3FC;\n",
              "    }\n",
              "\n",
              "    [theme=dark] .colab-df-convert:hover {\n",
              "      background-color: #434B5C;\n",
              "      box-shadow: 0px 1px 3px 1px rgba(0, 0, 0, 0.15);\n",
              "      filter: drop-shadow(0px 1px 2px rgba(0, 0, 0, 0.3));\n",
              "      fill: #FFFFFF;\n",
              "    }\n",
              "  </style>\n",
              "\n",
              "    <script>\n",
              "      const buttonEl =\n",
              "        document.querySelector('#df-3e85b6ba-12e0-4d6d-8816-b949cbd48dc9 button.colab-df-convert');\n",
              "      buttonEl.style.display =\n",
              "        google.colab.kernel.accessAllowed ? 'block' : 'none';\n",
              "\n",
              "      async function convertToInteractive(key) {\n",
              "        const element = document.querySelector('#df-3e85b6ba-12e0-4d6d-8816-b949cbd48dc9');\n",
              "        const dataTable =\n",
              "          await google.colab.kernel.invokeFunction('convertToInteractive',\n",
              "                                                    [key], {});\n",
              "        if (!dataTable) return;\n",
              "\n",
              "        const docLinkHtml = 'Like what you see? Visit the ' +\n",
              "          '<a target=\"_blank\" href=https://colab.research.google.com/notebooks/data_table.ipynb>data table notebook</a>'\n",
              "          + ' to learn more about interactive tables.';\n",
              "        element.innerHTML = '';\n",
              "        dataTable['output_type'] = 'display_data';\n",
              "        await google.colab.output.renderOutput(dataTable, element);\n",
              "        const docLink = document.createElement('div');\n",
              "        docLink.innerHTML = docLinkHtml;\n",
              "        element.appendChild(docLink);\n",
              "      }\n",
              "    </script>\n",
              "  </div>\n",
              "\n",
              "\n",
              "<div id=\"df-072d162b-565d-412b-b037-d1d464f1e285\">\n",
              "  <button class=\"colab-df-quickchart\" onclick=\"quickchart('df-072d162b-565d-412b-b037-d1d464f1e285')\"\n",
              "            title=\"Suggest charts\"\n",
              "            style=\"display:none;\">\n",
              "\n",
              "<svg xmlns=\"http://www.w3.org/2000/svg\" height=\"24px\"viewBox=\"0 0 24 24\"\n",
              "     width=\"24px\">\n",
              "    <g>\n",
              "        <path d=\"M19 3H5c-1.1 0-2 .9-2 2v14c0 1.1.9 2 2 2h14c1.1 0 2-.9 2-2V5c0-1.1-.9-2-2-2zM9 17H7v-7h2v7zm4 0h-2V7h2v10zm4 0h-2v-4h2v4z\"/>\n",
              "    </g>\n",
              "</svg>\n",
              "  </button>\n",
              "\n",
              "<style>\n",
              "  .colab-df-quickchart {\n",
              "      --bg-color: #E8F0FE;\n",
              "      --fill-color: #1967D2;\n",
              "      --hover-bg-color: #E2EBFA;\n",
              "      --hover-fill-color: #174EA6;\n",
              "      --disabled-fill-color: #AAA;\n",
              "      --disabled-bg-color: #DDD;\n",
              "  }\n",
              "\n",
              "  [theme=dark] .colab-df-quickchart {\n",
              "      --bg-color: #3B4455;\n",
              "      --fill-color: #D2E3FC;\n",
              "      --hover-bg-color: #434B5C;\n",
              "      --hover-fill-color: #FFFFFF;\n",
              "      --disabled-bg-color: #3B4455;\n",
              "      --disabled-fill-color: #666;\n",
              "  }\n",
              "\n",
              "  .colab-df-quickchart {\n",
              "    background-color: var(--bg-color);\n",
              "    border: none;\n",
              "    border-radius: 50%;\n",
              "    cursor: pointer;\n",
              "    display: none;\n",
              "    fill: var(--fill-color);\n",
              "    height: 32px;\n",
              "    padding: 0;\n",
              "    width: 32px;\n",
              "  }\n",
              "\n",
              "  .colab-df-quickchart:hover {\n",
              "    background-color: var(--hover-bg-color);\n",
              "    box-shadow: 0 1px 2px rgba(60, 64, 67, 0.3), 0 1px 3px 1px rgba(60, 64, 67, 0.15);\n",
              "    fill: var(--button-hover-fill-color);\n",
              "  }\n",
              "\n",
              "  .colab-df-quickchart-complete:disabled,\n",
              "  .colab-df-quickchart-complete:disabled:hover {\n",
              "    background-color: var(--disabled-bg-color);\n",
              "    fill: var(--disabled-fill-color);\n",
              "    box-shadow: none;\n",
              "  }\n",
              "\n",
              "  .colab-df-spinner {\n",
              "    border: 2px solid var(--fill-color);\n",
              "    border-color: transparent;\n",
              "    border-bottom-color: var(--fill-color);\n",
              "    animation:\n",
              "      spin 1s steps(1) infinite;\n",
              "  }\n",
              "\n",
              "  @keyframes spin {\n",
              "    0% {\n",
              "      border-color: transparent;\n",
              "      border-bottom-color: var(--fill-color);\n",
              "      border-left-color: var(--fill-color);\n",
              "    }\n",
              "    20% {\n",
              "      border-color: transparent;\n",
              "      border-left-color: var(--fill-color);\n",
              "      border-top-color: var(--fill-color);\n",
              "    }\n",
              "    30% {\n",
              "      border-color: transparent;\n",
              "      border-left-color: var(--fill-color);\n",
              "      border-top-color: var(--fill-color);\n",
              "      border-right-color: var(--fill-color);\n",
              "    }\n",
              "    40% {\n",
              "      border-color: transparent;\n",
              "      border-right-color: var(--fill-color);\n",
              "      border-top-color: var(--fill-color);\n",
              "    }\n",
              "    60% {\n",
              "      border-color: transparent;\n",
              "      border-right-color: var(--fill-color);\n",
              "    }\n",
              "    80% {\n",
              "      border-color: transparent;\n",
              "      border-right-color: var(--fill-color);\n",
              "      border-bottom-color: var(--fill-color);\n",
              "    }\n",
              "    90% {\n",
              "      border-color: transparent;\n",
              "      border-bottom-color: var(--fill-color);\n",
              "    }\n",
              "  }\n",
              "</style>\n",
              "\n",
              "  <script>\n",
              "    async function quickchart(key) {\n",
              "      const quickchartButtonEl =\n",
              "        document.querySelector('#' + key + ' button');\n",
              "      quickchartButtonEl.disabled = true;  // To prevent multiple clicks.\n",
              "      quickchartButtonEl.classList.add('colab-df-spinner');\n",
              "      try {\n",
              "        const charts = await google.colab.kernel.invokeFunction(\n",
              "            'suggestCharts', [key], {});\n",
              "      } catch (error) {\n",
              "        console.error('Error during call to suggestCharts:', error);\n",
              "      }\n",
              "      quickchartButtonEl.classList.remove('colab-df-spinner');\n",
              "      quickchartButtonEl.classList.add('colab-df-quickchart-complete');\n",
              "    }\n",
              "    (() => {\n",
              "      let quickchartButtonEl =\n",
              "        document.querySelector('#df-072d162b-565d-412b-b037-d1d464f1e285 button');\n",
              "      quickchartButtonEl.style.display =\n",
              "        google.colab.kernel.accessAllowed ? 'block' : 'none';\n",
              "    })();\n",
              "  </script>\n",
              "</div>\n",
              "\n",
              "    </div>\n",
              "  </div>\n"
            ],
            "application/vnd.google.colaboratory.intrinsic+json": {
              "type": "dataframe",
              "variable_name": "btc_data_yearly",
              "summary": "{\n  \"name\": \"btc_data_yearly\",\n  \"rows\": 11,\n  \"fields\": [\n    {\n      \"column\": [\n        \"date\",\n        \"\"\n      ],\n      \"properties\": {\n        \"dtype\": \"date\",\n        \"min\": \"2015-12-31 00:00:00\",\n        \"max\": \"2025-12-31 00:00:00\",\n        \"num_unique_values\": 11,\n        \"samples\": [\n          \"2020-12-31 00:00:00\",\n          \"2015-12-31 00:00:00\",\n          \"2024-12-31 00:00:00\"\n        ],\n        \"semantic_type\": \"\",\n        \"description\": \"\"\n      }\n    },\n    {\n      \"column\": [\n        \"btc_price\",\n        \"BTC-USD\"\n      ],\n      \"properties\": {\n        \"dtype\": \"number\",\n        \"std\": 32499.419247741458,\n        \"min\": 430.5669860839844,\n        \"max\": 93429.203125,\n        \"num_unique_values\": 11,\n        \"samples\": [\n          29001.720703125,\n          430.5669860839844,\n          93429.203125\n        ],\n        \"semantic_type\": \"\",\n        \"description\": \"\"\n      }\n    }\n  ]\n}"
            }
          },
          "metadata": {},
          "execution_count": 18
        }
      ]
    },
    {
      "cell_type": "markdown",
      "source": [
        "**Download U.S. M2 Money Supply Data:**\n",
        "\n"
      ],
      "metadata": {
        "id": "lE9v-RSX0T_G"
      }
    },
    {
      "cell_type": "code",
      "source": [
        "# Download M2 money supply data (monthly from FRED)\n",
        "m2_data = pdr.get_data_fred('M2SL', start=\"2015-01-01\", end=\"2025-03-30\")"
      ],
      "metadata": {
        "id": "sR4vxGPa3hR7"
      },
      "execution_count": null,
      "outputs": []
    },
    {
      "cell_type": "code",
      "source": [
        "# Reset index to remove MultiIndex issues\n",
        "m2_data = m2_data.reset_index()"
      ],
      "metadata": {
        "id": "tRoC6-wg8YJ9"
      },
      "execution_count": null,
      "outputs": []
    },
    {
      "cell_type": "code",
      "source": [
        "# Rename columns\n",
        "m2_data.rename(columns={'DATE': 'date', 'M2SL': 'm2_supply'}, inplace=True)"
      ],
      "metadata": {
        "id": "snGhqg5Q8bRE"
      },
      "execution_count": null,
      "outputs": []
    },
    {
      "cell_type": "code",
      "source": [
        "# Convert 'date' to datetime format\n",
        "m2_data['date'] = pd.to_datetime(m2_data['date'])"
      ],
      "metadata": {
        "id": "8ahw6tXA8eyz"
      },
      "execution_count": null,
      "outputs": []
    },
    {
      "cell_type": "code",
      "source": [
        "# Resample to daily frequency and forward-fill missing values\n",
        "m2_data = m2_data.set_index('date').resample('D').ffill().reset_index()"
      ],
      "metadata": {
        "id": "X88o52hM8hat"
      },
      "execution_count": null,
      "outputs": []
    },
    {
      "cell_type": "code",
      "source": [
        "# Confirm the dataframe structure\n",
        "print(m2_data.info())\n",
        "print(m2_data.head())"
      ],
      "metadata": {
        "colab": {
          "base_uri": "https://localhost:8080/"
        },
        "id": "2iB5psge8jXl",
        "outputId": "12cc25ec-bad3-45f7-9004-2ae042f7d24b"
      },
      "execution_count": null,
      "outputs": [
        {
          "output_type": "stream",
          "name": "stdout",
          "text": [
            "<class 'pandas.core.frame.DataFrame'>\n",
            "RangeIndex: 3685 entries, 0 to 3684\n",
            "Data columns (total 2 columns):\n",
            " #   Column     Non-Null Count  Dtype         \n",
            "---  ------     --------------  -----         \n",
            " 0   date       3685 non-null   datetime64[ns]\n",
            " 1   m2_supply  3685 non-null   float64       \n",
            "dtypes: datetime64[ns](1), float64(1)\n",
            "memory usage: 57.7 KB\n",
            "None\n",
            "        date  m2_supply\n",
            "0 2015-01-01    11788.8\n",
            "1 2015-01-02    11788.8\n",
            "2 2015-01-03    11788.8\n",
            "3 2015-01-04    11788.8\n",
            "4 2015-01-05    11788.8\n"
          ]
        }
      ]
    },
    {
      "cell_type": "markdown",
      "source": [
        "**Merge data:**"
      ],
      "metadata": {
        "id": "zd5Vt0IE2snQ"
      }
    },
    {
      "cell_type": "code",
      "source": [
        "# Convert both 'date' columns to datetime format\n",
        "btc_data['date'] = pd.to_datetime(btc_data['date'])\n",
        "m2_data['date'] = pd.to_datetime(m2_data['date'])"
      ],
      "metadata": {
        "id": "O0VZP8hT2xzN"
      },
      "execution_count": null,
      "outputs": []
    },
    {
      "cell_type": "code",
      "source": [
        "print(btc_data['date'].min(), btc_data['date'].max())\n",
        "print(m2_data['date'].min(), m2_data['date'].max())"
      ],
      "metadata": {
        "colab": {
          "base_uri": "https://localhost:8080/"
        },
        "id": "UJUpjMqm4nfO",
        "outputId": "698b07ff-bb47-46ac-9ca1-2dc4f86669bf"
      },
      "execution_count": null,
      "outputs": [
        {
          "output_type": "stream",
          "name": "stdout",
          "text": [
            "2015-01-01 00:00:00 2025-03-29 00:00:00\n",
            "2015-01-01 00:00:00 2025-02-01 00:00:00\n"
          ]
        }
      ]
    },
    {
      "cell_type": "code",
      "source": [
        "# Forward-fill missing M2 values to ensure full coverage\n",
        "m2_data = m2_data.set_index('date').reindex(pd.date_range(start=btc_data['date'].min(),\n",
        "                                                           end=btc_data['date'].max(),\n",
        "                                                           freq='D')).ffill().reset_index()\n",
        "\n",
        "# Rename back to 'date' column\n",
        "m2_data.rename(columns={'index': 'date'}, inplace=True)"
      ],
      "metadata": {
        "id": "WAKv5EQv4rbd"
      },
      "execution_count": null,
      "outputs": []
    },
    {
      "cell_type": "code",
      "source": [
        "btc_data['date'] = btc_data['date'].dt.normalize()\n",
        "m2_data['date'] = m2_data['date'].dt.normalize()"
      ],
      "metadata": {
        "id": "T42EwO244yuJ"
      },
      "execution_count": null,
      "outputs": []
    },
    {
      "cell_type": "code",
      "source": [
        "# Fix MultiIndex issue\n",
        "btc_data.columns = ['_'.join(col).strip() if isinstance(col, tuple) else col for col in btc_data.columns]\n",
        "\n",
        "# Rename columns again\n",
        "btc_data.rename(columns={'Date': 'date', 'Close': 'btc_price'}, inplace=True)"
      ],
      "metadata": {
        "colab": {
          "base_uri": "https://localhost:8080/"
        },
        "id": "T14E3CIW4_Tb",
        "outputId": "1850227b-ff0d-405a-8730-2dc7c931cc65"
      },
      "execution_count": null,
      "outputs": [
        {
          "output_type": "stream",
          "name": "stdout",
          "text": [
            "Index(['date_', 'btc_price_BTC-USD'], dtype='object')\n"
          ]
        }
      ]
    },
    {
      "cell_type": "code",
      "source": [
        "print(\"BTC Data Columns:\", btc_data.columns)\n",
        "print(\"M2 Data Columns:\", m2_data.columns)"
      ],
      "metadata": {
        "colab": {
          "base_uri": "https://localhost:8080/"
        },
        "id": "vjg19NPO5OOe",
        "outputId": "5b78bb60-c08a-487e-c68b-a13a865135e1"
      },
      "execution_count": null,
      "outputs": [
        {
          "output_type": "stream",
          "name": "stdout",
          "text": [
            "BTC Data Columns: Index(['date_', 'btc_price_BTC-USD'], dtype='object')\n",
            "M2 Data Columns: Index(['date', 'm2_supply'], dtype='object')\n"
          ]
        }
      ]
    },
    {
      "cell_type": "code",
      "source": [
        "btc_data.rename(columns={'date_': 'date', 'btc_price_BTC-USD': 'btc_price'}, inplace=True)\n",
        "\n",
        "# Print again to verify\n",
        "print(\"Fixed BTC Data Columns:\", btc_data.columns)\n",
        "print(\"M2 Data Columns:\", m2_data.columns)"
      ],
      "metadata": {
        "colab": {
          "base_uri": "https://localhost:8080/"
        },
        "id": "MnVVvylN5U24",
        "outputId": "366d9638-b539-43b9-ae1c-17081f7538c5"
      },
      "execution_count": null,
      "outputs": [
        {
          "output_type": "stream",
          "name": "stdout",
          "text": [
            "Fixed BTC Data Columns: Index(['date', 'btc_price'], dtype='object')\n",
            "M2 Data Columns: Index(['date', 'm2_supply'], dtype='object')\n"
          ]
        }
      ]
    },
    {
      "cell_type": "code",
      "source": [
        "merged_data = pd.merge(btc_data, m2_data, on='date', how='inner', validate=\"one_to_one\")\n",
        "print(merged_data.head())"
      ],
      "metadata": {
        "colab": {
          "base_uri": "https://localhost:8080/"
        },
        "id": "kfcMPhaz5fvx",
        "outputId": "9c9ccba0-c414-487d-c87a-25be4e1c677c"
      },
      "execution_count": null,
      "outputs": [
        {
          "output_type": "stream",
          "name": "stdout",
          "text": [
            "        date   btc_price  m2_supply\n",
            "0 2015-01-01  314.248993    11788.8\n",
            "1 2015-01-02  315.032013    11788.8\n",
            "2 2015-01-03  281.082001    11788.8\n",
            "3 2015-01-04  264.195007    11788.8\n",
            "4 2015-01-05  274.473999    11788.8\n"
          ]
        }
      ]
    },
    {
      "cell_type": "code",
      "source": [
        "merged_data.info()"
      ],
      "metadata": {
        "colab": {
          "base_uri": "https://localhost:8080/"
        },
        "id": "q9i1g5Ug5jbM",
        "outputId": "02476054-5450-4e55-e065-7baf0fd3e12e"
      },
      "execution_count": null,
      "outputs": [
        {
          "output_type": "stream",
          "name": "stdout",
          "text": [
            "<class 'pandas.core.frame.DataFrame'>\n",
            "RangeIndex: 3741 entries, 0 to 3740\n",
            "Data columns (total 3 columns):\n",
            " #   Column     Non-Null Count  Dtype         \n",
            "---  ------     --------------  -----         \n",
            " 0   date       3741 non-null   datetime64[ns]\n",
            " 1   btc_price  3741 non-null   float64       \n",
            " 2   m2_supply  3741 non-null   float64       \n",
            "dtypes: datetime64[ns](1), float64(2)\n",
            "memory usage: 87.8 KB\n"
          ]
        }
      ]
    },
    {
      "cell_type": "markdown",
      "source": [
        "\n",
        "\n",
        "---\n",
        "\n",
        "\n",
        "**Download inflation rates:**"
      ],
      "metadata": {
        "id": "LZE3F9PBG1GK"
      }
    },
    {
      "cell_type": "markdown",
      "source": [
        "CPI (Consumer Price Index) & PPI (Producer Price Index) track inflation\n",
        "\n",
        "U.S. CPI & PPI from FRED API"
      ],
      "metadata": {
        "id": "Uj9lKXJ7G_Hx"
      }
    },
    {
      "cell_type": "code",
      "source": [
        "# Get CPI and PPI from FRED\n",
        "cpi_data = pdr.get_data_fred('CPIAUCSL', start=\"2015-01-01\", end=\"2025-03-30\")\n",
        "ppi_data = pdr.get_data_fred('PPIACO', start=\"2015-01-01\", end=\"2025-03-30\")"
      ],
      "metadata": {
        "id": "oPPkQhvuG0qf"
      },
      "execution_count": null,
      "outputs": []
    },
    {
      "cell_type": "code",
      "source": [
        "# Reset index to make \"date\" a column\n",
        "cpi_data.reset_index(inplace=True)\n",
        "ppi_data.reset_index(inplace=True)"
      ],
      "metadata": {
        "id": "ziyH2uteXELi"
      },
      "execution_count": null,
      "outputs": []
    },
    {
      "cell_type": "code",
      "source": [
        "# Rename columns for clarity\n",
        "cpi_data.rename(columns={\"CPIAUCSL\": \"cpi\"}, inplace=True)\n",
        "ppi_data.rename(columns={\"PPIACO\": \"ppi\"}, inplace=True)"
      ],
      "metadata": {
        "id": "-vrd-_QrXOZg"
      },
      "execution_count": null,
      "outputs": []
    },
    {
      "cell_type": "code",
      "source": [
        "print(merged_data.columns)\n",
        "print(cpi_data.columns)\n",
        "print(ppi_data.columns)"
      ],
      "metadata": {
        "colab": {
          "base_uri": "https://localhost:8080/"
        },
        "id": "zLTWU1sfXiXS",
        "outputId": "a0e5731a-05ef-4f84-ad38-a2807d6105b7"
      },
      "execution_count": null,
      "outputs": [
        {
          "output_type": "stream",
          "name": "stdout",
          "text": [
            "Index(['date', 'btc_price', 'm2_supply'], dtype='object')\n",
            "Index(['DATE', 'cpi'], dtype='object')\n",
            "Index(['DATE', 'ppi'], dtype='object')\n"
          ]
        }
      ]
    },
    {
      "cell_type": "code",
      "source": [
        "# Rename 'DATE' to 'date' in CPI and PPI datasets\n",
        "cpi_data.rename(columns={'DATE': 'date'}, inplace=True)\n",
        "ppi_data.rename(columns={'DATE': 'date'}, inplace=True)"
      ],
      "metadata": {
        "id": "5k2sNw0cX8JR"
      },
      "execution_count": null,
      "outputs": []
    },
    {
      "cell_type": "code",
      "source": [
        "# Convert 'date' column to datetime format for consistency\n",
        "merged_data['date'] = pd.to_datetime(merged_data['date'])\n",
        "cpi_data['date'] = pd.to_datetime(cpi_data['date'])\n",
        "ppi_data['date'] = pd.to_datetime(ppi_data['date'])"
      ],
      "metadata": {
        "id": "RNVOuQWiX_it"
      },
      "execution_count": null,
      "outputs": []
    },
    {
      "cell_type": "code",
      "source": [
        "# Merge CPI and PPI into merged_data\n",
        "merged_data = pd.merge(merged_data, cpi_data, on=\"date\", how=\"left\")\n",
        "merged_data = pd.merge(merged_data, ppi_data, on=\"date\", how=\"left\")"
      ],
      "metadata": {
        "id": "q-CYBuqDYCa8"
      },
      "execution_count": null,
      "outputs": []
    },
    {
      "cell_type": "code",
      "source": [
        "print(merged_data.info())  # Ensure CPI and PPI columns exist\n",
        "print(merged_data.head())  # Check first few rows"
      ],
      "metadata": {
        "colab": {
          "base_uri": "https://localhost:8080/"
        },
        "id": "A_aLy0QdYGpO",
        "outputId": "6452edf7-8ba3-40c2-b599-a838d3c13b2f"
      },
      "execution_count": null,
      "outputs": [
        {
          "output_type": "stream",
          "name": "stdout",
          "text": [
            "<class 'pandas.core.frame.DataFrame'>\n",
            "RangeIndex: 3741 entries, 0 to 3740\n",
            "Data columns (total 5 columns):\n",
            " #   Column     Non-Null Count  Dtype         \n",
            "---  ------     --------------  -----         \n",
            " 0   date       3741 non-null   datetime64[ns]\n",
            " 1   btc_price  3741 non-null   float64       \n",
            " 2   m2_supply  3741 non-null   float64       \n",
            " 3   cpi        122 non-null    float64       \n",
            " 4   ppi        122 non-null    float64       \n",
            "dtypes: datetime64[ns](1), float64(4)\n",
            "memory usage: 146.3 KB\n",
            "None\n",
            "        date   btc_price  m2_supply      cpi    ppi\n",
            "0 2015-01-01  314.248993    11788.8  234.747  192.0\n",
            "1 2015-01-02  315.032013    11788.8      NaN    NaN\n",
            "2 2015-01-03  281.082001    11788.8      NaN    NaN\n",
            "3 2015-01-04  264.195007    11788.8      NaN    NaN\n",
            "4 2015-01-05  274.473999    11788.8      NaN    NaN\n"
          ]
        }
      ]
    },
    {
      "cell_type": "code",
      "source": [
        "# interpolate missing values\n",
        "merged_data['cpi'] = merged_data['cpi'].interpolate(method='linear')\n",
        "merged_data['ppi'] = merged_data['ppi'].interpolate(method='linear')"
      ],
      "metadata": {
        "id": "sH_XkQDLYqqr"
      },
      "execution_count": null,
      "outputs": []
    },
    {
      "cell_type": "code",
      "source": [
        "merged_data.head()"
      ],
      "metadata": {
        "colab": {
          "base_uri": "https://localhost:8080/",
          "height": 206
        },
        "id": "u5lZINTsYu5l",
        "outputId": "fbc9310e-6fbe-4041-94a5-95d7c2b73fe7"
      },
      "execution_count": null,
      "outputs": [
        {
          "output_type": "execute_result",
          "data": {
            "text/plain": [
              "        date   btc_price  m2_supply         cpi         ppi\n",
              "0 2015-01-01  314.248993    11788.8  234.747000  192.000000\n",
              "1 2015-01-02  315.032013    11788.8  234.766194  191.970968\n",
              "2 2015-01-03  281.082001    11788.8  234.785387  191.941935\n",
              "3 2015-01-04  264.195007    11788.8  234.804581  191.912903\n",
              "4 2015-01-05  274.473999    11788.8  234.823774  191.883871"
            ],
            "text/html": [
              "\n",
              "  <div id=\"df-791915df-f27d-4480-83b8-2d4b2142b247\" class=\"colab-df-container\">\n",
              "    <div>\n",
              "<style scoped>\n",
              "    .dataframe tbody tr th:only-of-type {\n",
              "        vertical-align: middle;\n",
              "    }\n",
              "\n",
              "    .dataframe tbody tr th {\n",
              "        vertical-align: top;\n",
              "    }\n",
              "\n",
              "    .dataframe thead th {\n",
              "        text-align: right;\n",
              "    }\n",
              "</style>\n",
              "<table border=\"1\" class=\"dataframe\">\n",
              "  <thead>\n",
              "    <tr style=\"text-align: right;\">\n",
              "      <th></th>\n",
              "      <th>date</th>\n",
              "      <th>btc_price</th>\n",
              "      <th>m2_supply</th>\n",
              "      <th>cpi</th>\n",
              "      <th>ppi</th>\n",
              "    </tr>\n",
              "  </thead>\n",
              "  <tbody>\n",
              "    <tr>\n",
              "      <th>0</th>\n",
              "      <td>2015-01-01</td>\n",
              "      <td>314.248993</td>\n",
              "      <td>11788.8</td>\n",
              "      <td>234.747000</td>\n",
              "      <td>192.000000</td>\n",
              "    </tr>\n",
              "    <tr>\n",
              "      <th>1</th>\n",
              "      <td>2015-01-02</td>\n",
              "      <td>315.032013</td>\n",
              "      <td>11788.8</td>\n",
              "      <td>234.766194</td>\n",
              "      <td>191.970968</td>\n",
              "    </tr>\n",
              "    <tr>\n",
              "      <th>2</th>\n",
              "      <td>2015-01-03</td>\n",
              "      <td>281.082001</td>\n",
              "      <td>11788.8</td>\n",
              "      <td>234.785387</td>\n",
              "      <td>191.941935</td>\n",
              "    </tr>\n",
              "    <tr>\n",
              "      <th>3</th>\n",
              "      <td>2015-01-04</td>\n",
              "      <td>264.195007</td>\n",
              "      <td>11788.8</td>\n",
              "      <td>234.804581</td>\n",
              "      <td>191.912903</td>\n",
              "    </tr>\n",
              "    <tr>\n",
              "      <th>4</th>\n",
              "      <td>2015-01-05</td>\n",
              "      <td>274.473999</td>\n",
              "      <td>11788.8</td>\n",
              "      <td>234.823774</td>\n",
              "      <td>191.883871</td>\n",
              "    </tr>\n",
              "  </tbody>\n",
              "</table>\n",
              "</div>\n",
              "    <div class=\"colab-df-buttons\">\n",
              "\n",
              "  <div class=\"colab-df-container\">\n",
              "    <button class=\"colab-df-convert\" onclick=\"convertToInteractive('df-791915df-f27d-4480-83b8-2d4b2142b247')\"\n",
              "            title=\"Convert this dataframe to an interactive table.\"\n",
              "            style=\"display:none;\">\n",
              "\n",
              "  <svg xmlns=\"http://www.w3.org/2000/svg\" height=\"24px\" viewBox=\"0 -960 960 960\">\n",
              "    <path d=\"M120-120v-720h720v720H120Zm60-500h600v-160H180v160Zm220 220h160v-160H400v160Zm0 220h160v-160H400v160ZM180-400h160v-160H180v160Zm440 0h160v-160H620v160ZM180-180h160v-160H180v160Zm440 0h160v-160H620v160Z\"/>\n",
              "  </svg>\n",
              "    </button>\n",
              "\n",
              "  <style>\n",
              "    .colab-df-container {\n",
              "      display:flex;\n",
              "      gap: 12px;\n",
              "    }\n",
              "\n",
              "    .colab-df-convert {\n",
              "      background-color: #E8F0FE;\n",
              "      border: none;\n",
              "      border-radius: 50%;\n",
              "      cursor: pointer;\n",
              "      display: none;\n",
              "      fill: #1967D2;\n",
              "      height: 32px;\n",
              "      padding: 0 0 0 0;\n",
              "      width: 32px;\n",
              "    }\n",
              "\n",
              "    .colab-df-convert:hover {\n",
              "      background-color: #E2EBFA;\n",
              "      box-shadow: 0px 1px 2px rgba(60, 64, 67, 0.3), 0px 1px 3px 1px rgba(60, 64, 67, 0.15);\n",
              "      fill: #174EA6;\n",
              "    }\n",
              "\n",
              "    .colab-df-buttons div {\n",
              "      margin-bottom: 4px;\n",
              "    }\n",
              "\n",
              "    [theme=dark] .colab-df-convert {\n",
              "      background-color: #3B4455;\n",
              "      fill: #D2E3FC;\n",
              "    }\n",
              "\n",
              "    [theme=dark] .colab-df-convert:hover {\n",
              "      background-color: #434B5C;\n",
              "      box-shadow: 0px 1px 3px 1px rgba(0, 0, 0, 0.15);\n",
              "      filter: drop-shadow(0px 1px 2px rgba(0, 0, 0, 0.3));\n",
              "      fill: #FFFFFF;\n",
              "    }\n",
              "  </style>\n",
              "\n",
              "    <script>\n",
              "      const buttonEl =\n",
              "        document.querySelector('#df-791915df-f27d-4480-83b8-2d4b2142b247 button.colab-df-convert');\n",
              "      buttonEl.style.display =\n",
              "        google.colab.kernel.accessAllowed ? 'block' : 'none';\n",
              "\n",
              "      async function convertToInteractive(key) {\n",
              "        const element = document.querySelector('#df-791915df-f27d-4480-83b8-2d4b2142b247');\n",
              "        const dataTable =\n",
              "          await google.colab.kernel.invokeFunction('convertToInteractive',\n",
              "                                                    [key], {});\n",
              "        if (!dataTable) return;\n",
              "\n",
              "        const docLinkHtml = 'Like what you see? Visit the ' +\n",
              "          '<a target=\"_blank\" href=https://colab.research.google.com/notebooks/data_table.ipynb>data table notebook</a>'\n",
              "          + ' to learn more about interactive tables.';\n",
              "        element.innerHTML = '';\n",
              "        dataTable['output_type'] = 'display_data';\n",
              "        await google.colab.output.renderOutput(dataTable, element);\n",
              "        const docLink = document.createElement('div');\n",
              "        docLink.innerHTML = docLinkHtml;\n",
              "        element.appendChild(docLink);\n",
              "      }\n",
              "    </script>\n",
              "  </div>\n",
              "\n",
              "\n",
              "<div id=\"df-4e73de23-d5ee-40e1-ba62-a252dd4fa0e7\">\n",
              "  <button class=\"colab-df-quickchart\" onclick=\"quickchart('df-4e73de23-d5ee-40e1-ba62-a252dd4fa0e7')\"\n",
              "            title=\"Suggest charts\"\n",
              "            style=\"display:none;\">\n",
              "\n",
              "<svg xmlns=\"http://www.w3.org/2000/svg\" height=\"24px\"viewBox=\"0 0 24 24\"\n",
              "     width=\"24px\">\n",
              "    <g>\n",
              "        <path d=\"M19 3H5c-1.1 0-2 .9-2 2v14c0 1.1.9 2 2 2h14c1.1 0 2-.9 2-2V5c0-1.1-.9-2-2-2zM9 17H7v-7h2v7zm4 0h-2V7h2v10zm4 0h-2v-4h2v4z\"/>\n",
              "    </g>\n",
              "</svg>\n",
              "  </button>\n",
              "\n",
              "<style>\n",
              "  .colab-df-quickchart {\n",
              "      --bg-color: #E8F0FE;\n",
              "      --fill-color: #1967D2;\n",
              "      --hover-bg-color: #E2EBFA;\n",
              "      --hover-fill-color: #174EA6;\n",
              "      --disabled-fill-color: #AAA;\n",
              "      --disabled-bg-color: #DDD;\n",
              "  }\n",
              "\n",
              "  [theme=dark] .colab-df-quickchart {\n",
              "      --bg-color: #3B4455;\n",
              "      --fill-color: #D2E3FC;\n",
              "      --hover-bg-color: #434B5C;\n",
              "      --hover-fill-color: #FFFFFF;\n",
              "      --disabled-bg-color: #3B4455;\n",
              "      --disabled-fill-color: #666;\n",
              "  }\n",
              "\n",
              "  .colab-df-quickchart {\n",
              "    background-color: var(--bg-color);\n",
              "    border: none;\n",
              "    border-radius: 50%;\n",
              "    cursor: pointer;\n",
              "    display: none;\n",
              "    fill: var(--fill-color);\n",
              "    height: 32px;\n",
              "    padding: 0;\n",
              "    width: 32px;\n",
              "  }\n",
              "\n",
              "  .colab-df-quickchart:hover {\n",
              "    background-color: var(--hover-bg-color);\n",
              "    box-shadow: 0 1px 2px rgba(60, 64, 67, 0.3), 0 1px 3px 1px rgba(60, 64, 67, 0.15);\n",
              "    fill: var(--button-hover-fill-color);\n",
              "  }\n",
              "\n",
              "  .colab-df-quickchart-complete:disabled,\n",
              "  .colab-df-quickchart-complete:disabled:hover {\n",
              "    background-color: var(--disabled-bg-color);\n",
              "    fill: var(--disabled-fill-color);\n",
              "    box-shadow: none;\n",
              "  }\n",
              "\n",
              "  .colab-df-spinner {\n",
              "    border: 2px solid var(--fill-color);\n",
              "    border-color: transparent;\n",
              "    border-bottom-color: var(--fill-color);\n",
              "    animation:\n",
              "      spin 1s steps(1) infinite;\n",
              "  }\n",
              "\n",
              "  @keyframes spin {\n",
              "    0% {\n",
              "      border-color: transparent;\n",
              "      border-bottom-color: var(--fill-color);\n",
              "      border-left-color: var(--fill-color);\n",
              "    }\n",
              "    20% {\n",
              "      border-color: transparent;\n",
              "      border-left-color: var(--fill-color);\n",
              "      border-top-color: var(--fill-color);\n",
              "    }\n",
              "    30% {\n",
              "      border-color: transparent;\n",
              "      border-left-color: var(--fill-color);\n",
              "      border-top-color: var(--fill-color);\n",
              "      border-right-color: var(--fill-color);\n",
              "    }\n",
              "    40% {\n",
              "      border-color: transparent;\n",
              "      border-right-color: var(--fill-color);\n",
              "      border-top-color: var(--fill-color);\n",
              "    }\n",
              "    60% {\n",
              "      border-color: transparent;\n",
              "      border-right-color: var(--fill-color);\n",
              "    }\n",
              "    80% {\n",
              "      border-color: transparent;\n",
              "      border-right-color: var(--fill-color);\n",
              "      border-bottom-color: var(--fill-color);\n",
              "    }\n",
              "    90% {\n",
              "      border-color: transparent;\n",
              "      border-bottom-color: var(--fill-color);\n",
              "    }\n",
              "  }\n",
              "</style>\n",
              "\n",
              "  <script>\n",
              "    async function quickchart(key) {\n",
              "      const quickchartButtonEl =\n",
              "        document.querySelector('#' + key + ' button');\n",
              "      quickchartButtonEl.disabled = true;  // To prevent multiple clicks.\n",
              "      quickchartButtonEl.classList.add('colab-df-spinner');\n",
              "      try {\n",
              "        const charts = await google.colab.kernel.invokeFunction(\n",
              "            'suggestCharts', [key], {});\n",
              "      } catch (error) {\n",
              "        console.error('Error during call to suggestCharts:', error);\n",
              "      }\n",
              "      quickchartButtonEl.classList.remove('colab-df-spinner');\n",
              "      quickchartButtonEl.classList.add('colab-df-quickchart-complete');\n",
              "    }\n",
              "    (() => {\n",
              "      let quickchartButtonEl =\n",
              "        document.querySelector('#df-4e73de23-d5ee-40e1-ba62-a252dd4fa0e7 button');\n",
              "      quickchartButtonEl.style.display =\n",
              "        google.colab.kernel.accessAllowed ? 'block' : 'none';\n",
              "    })();\n",
              "  </script>\n",
              "</div>\n",
              "\n",
              "    </div>\n",
              "  </div>\n"
            ],
            "application/vnd.google.colaboratory.intrinsic+json": {
              "type": "dataframe",
              "variable_name": "merged_data",
              "summary": "{\n  \"name\": \"merged_data\",\n  \"rows\": 3741,\n  \"fields\": [\n    {\n      \"column\": \"date\",\n      \"properties\": {\n        \"dtype\": \"date\",\n        \"min\": \"2015-01-01 00:00:00\",\n        \"max\": \"2025-03-29 00:00:00\",\n        \"num_unique_values\": 3741,\n        \"samples\": [\n          \"2024-04-19 00:00:00\",\n          \"2018-01-19 00:00:00\",\n          \"2015-12-18 00:00:00\"\n        ],\n        \"semantic_type\": \"\",\n        \"description\": \"\"\n      }\n    },\n    {\n      \"column\": \"btc_price\",\n      \"properties\": {\n        \"dtype\": \"number\",\n        \"std\": 24627.70533459367,\n        \"min\": 178.10299682617188,\n        \"max\": 106146.265625,\n        \"num_unique_values\": 3738,\n        \"samples\": [\n          10725.599609375,\n          623.9769897460938,\n          462.3219909667969\n        ],\n        \"semantic_type\": \"\",\n        \"description\": \"\"\n      }\n    },\n    {\n      \"column\": \"m2_supply\",\n      \"properties\": {\n        \"dtype\": \"number\",\n        \"std\": 3683.34718935313,\n        \"min\": 11788.8,\n        \"max\": 21749.6,\n        \"num_unique_values\": 122,\n        \"samples\": [\n          12889.7,\n          14241.4,\n          14382.6\n        ],\n        \"semantic_type\": \"\",\n        \"description\": \"\"\n      }\n    },\n    {\n      \"column\": \"cpi\",\n      \"properties\": {\n        \"dtype\": \"number\",\n        \"std\": 27.300658962247542,\n        \"min\": 234.747,\n        \"max\": 319.775,\n        \"num_unique_values\": 3684,\n        \"samples\": [\n          258.8495483870968,\n          284.525,\n          308.045\n        ],\n        \"semantic_type\": \"\",\n        \"description\": \"\"\n      }\n    },\n    {\n      \"column\": \"ppi\",\n      \"properties\": {\n        \"dtype\": \"number\",\n        \"std\": 30.130492115305522,\n        \"min\": 181.3,\n        \"max\": 280.251,\n        \"num_unique_values\": 3506,\n        \"samples\": [\n          256.4768,\n          184.52666666666667,\n          230.375\n        ],\n        \"semantic_type\": \"\",\n        \"description\": \"\"\n      }\n    }\n  ]\n}"
            }
          },
          "metadata": {},
          "execution_count": 76
        }
      ]
    },
    {
      "cell_type": "markdown",
      "source": [
        "\n",
        "\n",
        "---\n",
        "\n",
        "\n",
        "**Download Interest Rates:**"
      ],
      "metadata": {
        "id": "2cTPpcFdHOwp"
      }
    },
    {
      "cell_type": "markdown",
      "source": [
        "Federal Funds Rate from the FRED API"
      ],
      "metadata": {
        "id": "3PV1Xd_sHWEd"
      }
    },
    {
      "cell_type": "code",
      "source": [
        "# Get Fed Funds Rate data from FRED\n",
        "fed_funds_data = pdr.get_data_fred('FEDFUNDS', start=\"2015-01-01\", end=\"2025-03-30\")"
      ],
      "metadata": {
        "id": "8k5Nf71n9Dvm"
      },
      "execution_count": null,
      "outputs": []
    },
    {
      "cell_type": "code",
      "source": [
        "# Reset index and rename columns\n",
        "fed_funds_data.reset_index(inplace=True)\n",
        "fed_funds_data.rename(columns={\"DATE\": \"date\", \"FEDFUNDS\": \"fed_funds_rate\"}, inplace=True)"
      ],
      "metadata": {
        "id": "NaatJBYM9PU_"
      },
      "execution_count": null,
      "outputs": []
    },
    {
      "cell_type": "code",
      "source": [
        "# Convert date to datetime format for consistency\n",
        "fed_funds_data['date'] = pd.to_datetime(fed_funds_data['date'])"
      ],
      "metadata": {
        "id": "TUuYtNSb9exD"
      },
      "execution_count": null,
      "outputs": []
    },
    {
      "cell_type": "code",
      "source": [
        "# Ensure date is in datetime format in merged_data\n",
        "merged_data['date'] = pd.to_datetime(merged_data['date'])"
      ],
      "metadata": {
        "id": "MCf5N2l69iPV"
      },
      "execution_count": null,
      "outputs": []
    },
    {
      "cell_type": "code",
      "source": [
        "# Merge the datasets on \"date\"\n",
        "merged_data = pd.merge(merged_data, fed_funds_data, on=\"date\", how=\"left\")"
      ],
      "metadata": {
        "id": "DfI_3-2p9kgY"
      },
      "execution_count": null,
      "outputs": []
    },
    {
      "cell_type": "code",
      "source": [
        "merged_data['fed_funds_rate'].fillna(method='ffill', inplace=True)"
      ],
      "metadata": {
        "colab": {
          "base_uri": "https://localhost:8080/"
        },
        "id": "isOAsC5o9qCs",
        "outputId": "af843143-46eb-48a5-e434-f8e9d718c1e6"
      },
      "execution_count": null,
      "outputs": [
        {
          "output_type": "stream",
          "name": "stderr",
          "text": [
            "<ipython-input-33-b432ffecd9ba>:1: FutureWarning: A value is trying to be set on a copy of a DataFrame or Series through chained assignment using an inplace method.\n",
            "The behavior will change in pandas 3.0. This inplace method will never work because the intermediate object on which we are setting values always behaves as a copy.\n",
            "\n",
            "For example, when doing 'df[col].method(value, inplace=True)', try using 'df.method({col: value}, inplace=True)' or df[col] = df[col].method(value) instead, to perform the operation inplace on the original object.\n",
            "\n",
            "\n",
            "  merged_data['fed_funds_rate'].fillna(method='ffill', inplace=True)\n",
            "<ipython-input-33-b432ffecd9ba>:1: FutureWarning: Series.fillna with 'method' is deprecated and will raise in a future version. Use obj.ffill() or obj.bfill() instead.\n",
            "  merged_data['fed_funds_rate'].fillna(method='ffill', inplace=True)\n"
          ]
        }
      ]
    },
    {
      "cell_type": "markdown",
      "source": [
        "\n",
        "\n",
        "---\n",
        "\n",
        "\n",
        "**Stock Market Indices Data:**"
      ],
      "metadata": {
        "id": "pbS8RZbHHp1u"
      }
    },
    {
      "cell_type": "markdown",
      "source": [
        "Daily S&P 500 (^GSPC) and Nasdaq (^IXIC) prices from Yahoo Finance"
      ],
      "metadata": {
        "id": "cwXulkUyHuxm"
      }
    },
    {
      "cell_type": "code",
      "source": [
        "# Download stock index data from Yahoo Finance\n",
        "sp500_data = yf.download('^GSPC', start=\"2015-01-01\", end=\"2025-03-30\")[['Close']]\n",
        "nasdaq_data = yf.download('^IXIC', start=\"2015-01-01\", end=\"2025-03-30\")[['Close']]"
      ],
      "metadata": {
        "colab": {
          "base_uri": "https://localhost:8080/"
        },
        "id": "qK86QgSKHaPX",
        "outputId": "4e89b04b-c092-43e1-f99a-9abe3cc0108f"
      },
      "execution_count": null,
      "outputs": [
        {
          "output_type": "stream",
          "name": "stderr",
          "text": [
            "[*********************100%***********************]  1 of 1 completed\n",
            "[*********************100%***********************]  1 of 1 completed\n"
          ]
        }
      ]
    },
    {
      "cell_type": "code",
      "source": [
        "# Rename columns\n",
        "sp500_data.rename(columns={'Close': 'sp500'}, inplace=True)\n",
        "nasdaq_data.rename(columns={'Close': 'nasdaq'}, inplace=True)"
      ],
      "metadata": {
        "id": "5h5UqABS-dji"
      },
      "execution_count": null,
      "outputs": []
    },
    {
      "cell_type": "code",
      "source": [
        "# Reset index to get 'date' as a column\n",
        "sp500_data.reset_index(inplace=True)\n",
        "nasdaq_data.reset_index(inplace=True)"
      ],
      "metadata": {
        "id": "v_FjufC6-3cf"
      },
      "execution_count": null,
      "outputs": []
    },
    {
      "cell_type": "code",
      "source": [
        "# Convert date to datetime format for consistency\n",
        "sp500_data['Date'] = pd.to_datetime(sp500_data['Date'])\n",
        "nasdaq_data['Date'] = pd.to_datetime(nasdaq_data['Date'])"
      ],
      "metadata": {
        "id": "7mrGOIlB-6V0"
      },
      "execution_count": null,
      "outputs": []
    },
    {
      "cell_type": "code",
      "source": [
        "# Ensure 'date' column is in datetime format\n",
        "merged_data['date'] = pd.to_datetime(merged_data['date'])"
      ],
      "metadata": {
        "id": "QDK4VdZf_Cmi"
      },
      "execution_count": null,
      "outputs": []
    },
    {
      "cell_type": "code",
      "source": [
        "# Reset index to ensure 'date' is a column and not an index\n",
        "sp500_data = sp500_data.reset_index()\n",
        "nasdaq_data = nasdaq_data.reset_index()"
      ],
      "metadata": {
        "id": "dCV_ARXG_X0P"
      },
      "execution_count": null,
      "outputs": []
    },
    {
      "cell_type": "code",
      "source": [
        "# Ensure 'Date' is in datetime format and rename to match merged_data\n",
        "sp500_data.rename(columns={'Date': 'date'}, inplace=True)\n",
        "nasdaq_data.rename(columns={'Date': 'date'}, inplace=True)\n",
        "sp500_data['date'] = pd.to_datetime(sp500_data['date'])\n",
        "nasdaq_data['date'] = pd.to_datetime(nasdaq_data['date'])"
      ],
      "metadata": {
        "id": "98ZHEDWX_z2B"
      },
      "execution_count": null,
      "outputs": []
    },
    {
      "cell_type": "code",
      "source": [
        "# Reset index\n",
        "merged_data = merged_data.reset_index(drop=True)"
      ],
      "metadata": {
        "id": "xY5bVdry_4dn"
      },
      "execution_count": null,
      "outputs": []
    },
    {
      "cell_type": "code",
      "source": [
        "# Ensure 'date' column is in datetime format\n",
        "merged_data['date'] = pd.to_datetime(merged_data['date'])"
      ],
      "metadata": {
        "id": "wyWgBI2j_6zm"
      },
      "execution_count": null,
      "outputs": []
    },
    {
      "cell_type": "code",
      "source": [
        "sp500_data.columns = sp500_data.columns.droplevel(1)  # Drop the second index level\n",
        "nasdaq_data.columns = nasdaq_data.columns.droplevel(1)"
      ],
      "metadata": {
        "id": "sb_qy-IGA6Ng"
      },
      "execution_count": null,
      "outputs": []
    },
    {
      "cell_type": "code",
      "source": [
        "sp500_data.rename(columns={'Price': 'date', 'sp500': 'sp500'}, inplace=True)\n",
        "nasdaq_data.rename(columns={'Price': 'date', 'nasdaq': 'nasdaq'}, inplace=True)"
      ],
      "metadata": {
        "id": "6LfLxyv1A9EP"
      },
      "execution_count": null,
      "outputs": []
    },
    {
      "cell_type": "code",
      "source": [
        "sp500_data['date'] = pd.to_datetime(sp500_data['date']).dt.normalize()\n",
        "nasdaq_data['date'] = pd.to_datetime(nasdaq_data['date']).dt.normalize()\n",
        "merged_data['date'] = pd.to_datetime(merged_data['date']).dt.normalize()"
      ],
      "metadata": {
        "id": "-2B_L1cMA_om"
      },
      "execution_count": null,
      "outputs": []
    },
    {
      "cell_type": "code",
      "source": [
        "merged_data = merged_data.merge(sp500_data[['date', 'sp500']], on='date', how='left')\n",
        "merged_data = merged_data.merge(nasdaq_data[['date', 'nasdaq']], on='date', how='left')"
      ],
      "metadata": {
        "id": "nAQMCZDHBDJ3"
      },
      "execution_count": null,
      "outputs": []
    },
    {
      "cell_type": "code",
      "source": [
        "merged_data[['sp500', 'nasdaq']] = merged_data[['sp500', 'nasdaq']].fillna(method='ffill')"
      ],
      "metadata": {
        "colab": {
          "base_uri": "https://localhost:8080/"
        },
        "id": "G_oelbl1BHAS",
        "outputId": "238c3c50-36dd-488c-cba7-75e325e2638b"
      },
      "execution_count": null,
      "outputs": [
        {
          "output_type": "stream",
          "name": "stderr",
          "text": [
            "<ipython-input-60-e4f755ce1828>:1: FutureWarning: DataFrame.fillna with 'method' is deprecated and will raise in a future version. Use obj.ffill() or obj.bfill() instead.\n",
            "  merged_data[['sp500', 'nasdaq']] = merged_data[['sp500', 'nasdaq']].fillna(method='ffill')\n"
          ]
        }
      ]
    },
    {
      "cell_type": "code",
      "source": [
        "merged_data.head()"
      ],
      "metadata": {
        "colab": {
          "base_uri": "https://localhost:8080/",
          "height": 206
        },
        "id": "ko2DHDuSBKK6",
        "outputId": "33c460ef-3a22-423a-c236-55cc9f9bcca3"
      },
      "execution_count": null,
      "outputs": [
        {
          "output_type": "execute_result",
          "data": {
            "text/plain": [
              "        date   btc_price  m2_supply         cpi         ppi  fed_funds_rate  \\\n",
              "0 2015-01-01  314.248993    11788.8  234.747000  192.000000            0.11   \n",
              "1 2015-01-02  315.032013    11788.8  234.766194  191.970968            0.11   \n",
              "2 2015-01-03  281.082001    11788.8  234.785387  191.941935            0.11   \n",
              "3 2015-01-04  264.195007    11788.8  234.804581  191.912903            0.11   \n",
              "4 2015-01-05  274.473999    11788.8  234.823774  191.883871            0.11   \n",
              "\n",
              "         sp500       nasdaq  \n",
              "0          NaN          NaN  \n",
              "1  2058.199951  4726.810059  \n",
              "2  2058.199951  4726.810059  \n",
              "3  2058.199951  4726.810059  \n",
              "4  2020.579956  4652.569824  "
            ],
            "text/html": [
              "\n",
              "  <div id=\"df-db2cc613-3138-4ead-bb4d-61af97df8c28\" class=\"colab-df-container\">\n",
              "    <div>\n",
              "<style scoped>\n",
              "    .dataframe tbody tr th:only-of-type {\n",
              "        vertical-align: middle;\n",
              "    }\n",
              "\n",
              "    .dataframe tbody tr th {\n",
              "        vertical-align: top;\n",
              "    }\n",
              "\n",
              "    .dataframe thead th {\n",
              "        text-align: right;\n",
              "    }\n",
              "</style>\n",
              "<table border=\"1\" class=\"dataframe\">\n",
              "  <thead>\n",
              "    <tr style=\"text-align: right;\">\n",
              "      <th></th>\n",
              "      <th>date</th>\n",
              "      <th>btc_price</th>\n",
              "      <th>m2_supply</th>\n",
              "      <th>cpi</th>\n",
              "      <th>ppi</th>\n",
              "      <th>fed_funds_rate</th>\n",
              "      <th>sp500</th>\n",
              "      <th>nasdaq</th>\n",
              "    </tr>\n",
              "  </thead>\n",
              "  <tbody>\n",
              "    <tr>\n",
              "      <th>0</th>\n",
              "      <td>2015-01-01</td>\n",
              "      <td>314.248993</td>\n",
              "      <td>11788.8</td>\n",
              "      <td>234.747000</td>\n",
              "      <td>192.000000</td>\n",
              "      <td>0.11</td>\n",
              "      <td>NaN</td>\n",
              "      <td>NaN</td>\n",
              "    </tr>\n",
              "    <tr>\n",
              "      <th>1</th>\n",
              "      <td>2015-01-02</td>\n",
              "      <td>315.032013</td>\n",
              "      <td>11788.8</td>\n",
              "      <td>234.766194</td>\n",
              "      <td>191.970968</td>\n",
              "      <td>0.11</td>\n",
              "      <td>2058.199951</td>\n",
              "      <td>4726.810059</td>\n",
              "    </tr>\n",
              "    <tr>\n",
              "      <th>2</th>\n",
              "      <td>2015-01-03</td>\n",
              "      <td>281.082001</td>\n",
              "      <td>11788.8</td>\n",
              "      <td>234.785387</td>\n",
              "      <td>191.941935</td>\n",
              "      <td>0.11</td>\n",
              "      <td>2058.199951</td>\n",
              "      <td>4726.810059</td>\n",
              "    </tr>\n",
              "    <tr>\n",
              "      <th>3</th>\n",
              "      <td>2015-01-04</td>\n",
              "      <td>264.195007</td>\n",
              "      <td>11788.8</td>\n",
              "      <td>234.804581</td>\n",
              "      <td>191.912903</td>\n",
              "      <td>0.11</td>\n",
              "      <td>2058.199951</td>\n",
              "      <td>4726.810059</td>\n",
              "    </tr>\n",
              "    <tr>\n",
              "      <th>4</th>\n",
              "      <td>2015-01-05</td>\n",
              "      <td>274.473999</td>\n",
              "      <td>11788.8</td>\n",
              "      <td>234.823774</td>\n",
              "      <td>191.883871</td>\n",
              "      <td>0.11</td>\n",
              "      <td>2020.579956</td>\n",
              "      <td>4652.569824</td>\n",
              "    </tr>\n",
              "  </tbody>\n",
              "</table>\n",
              "</div>\n",
              "    <div class=\"colab-df-buttons\">\n",
              "\n",
              "  <div class=\"colab-df-container\">\n",
              "    <button class=\"colab-df-convert\" onclick=\"convertToInteractive('df-db2cc613-3138-4ead-bb4d-61af97df8c28')\"\n",
              "            title=\"Convert this dataframe to an interactive table.\"\n",
              "            style=\"display:none;\">\n",
              "\n",
              "  <svg xmlns=\"http://www.w3.org/2000/svg\" height=\"24px\" viewBox=\"0 -960 960 960\">\n",
              "    <path d=\"M120-120v-720h720v720H120Zm60-500h600v-160H180v160Zm220 220h160v-160H400v160Zm0 220h160v-160H400v160ZM180-400h160v-160H180v160Zm440 0h160v-160H620v160ZM180-180h160v-160H180v160Zm440 0h160v-160H620v160Z\"/>\n",
              "  </svg>\n",
              "    </button>\n",
              "\n",
              "  <style>\n",
              "    .colab-df-container {\n",
              "      display:flex;\n",
              "      gap: 12px;\n",
              "    }\n",
              "\n",
              "    .colab-df-convert {\n",
              "      background-color: #E8F0FE;\n",
              "      border: none;\n",
              "      border-radius: 50%;\n",
              "      cursor: pointer;\n",
              "      display: none;\n",
              "      fill: #1967D2;\n",
              "      height: 32px;\n",
              "      padding: 0 0 0 0;\n",
              "      width: 32px;\n",
              "    }\n",
              "\n",
              "    .colab-df-convert:hover {\n",
              "      background-color: #E2EBFA;\n",
              "      box-shadow: 0px 1px 2px rgba(60, 64, 67, 0.3), 0px 1px 3px 1px rgba(60, 64, 67, 0.15);\n",
              "      fill: #174EA6;\n",
              "    }\n",
              "\n",
              "    .colab-df-buttons div {\n",
              "      margin-bottom: 4px;\n",
              "    }\n",
              "\n",
              "    [theme=dark] .colab-df-convert {\n",
              "      background-color: #3B4455;\n",
              "      fill: #D2E3FC;\n",
              "    }\n",
              "\n",
              "    [theme=dark] .colab-df-convert:hover {\n",
              "      background-color: #434B5C;\n",
              "      box-shadow: 0px 1px 3px 1px rgba(0, 0, 0, 0.15);\n",
              "      filter: drop-shadow(0px 1px 2px rgba(0, 0, 0, 0.3));\n",
              "      fill: #FFFFFF;\n",
              "    }\n",
              "  </style>\n",
              "\n",
              "    <script>\n",
              "      const buttonEl =\n",
              "        document.querySelector('#df-db2cc613-3138-4ead-bb4d-61af97df8c28 button.colab-df-convert');\n",
              "      buttonEl.style.display =\n",
              "        google.colab.kernel.accessAllowed ? 'block' : 'none';\n",
              "\n",
              "      async function convertToInteractive(key) {\n",
              "        const element = document.querySelector('#df-db2cc613-3138-4ead-bb4d-61af97df8c28');\n",
              "        const dataTable =\n",
              "          await google.colab.kernel.invokeFunction('convertToInteractive',\n",
              "                                                    [key], {});\n",
              "        if (!dataTable) return;\n",
              "\n",
              "        const docLinkHtml = 'Like what you see? Visit the ' +\n",
              "          '<a target=\"_blank\" href=https://colab.research.google.com/notebooks/data_table.ipynb>data table notebook</a>'\n",
              "          + ' to learn more about interactive tables.';\n",
              "        element.innerHTML = '';\n",
              "        dataTable['output_type'] = 'display_data';\n",
              "        await google.colab.output.renderOutput(dataTable, element);\n",
              "        const docLink = document.createElement('div');\n",
              "        docLink.innerHTML = docLinkHtml;\n",
              "        element.appendChild(docLink);\n",
              "      }\n",
              "    </script>\n",
              "  </div>\n",
              "\n",
              "\n",
              "<div id=\"df-a0ee87b0-2351-4e8f-8e07-71fcc4d107bb\">\n",
              "  <button class=\"colab-df-quickchart\" onclick=\"quickchart('df-a0ee87b0-2351-4e8f-8e07-71fcc4d107bb')\"\n",
              "            title=\"Suggest charts\"\n",
              "            style=\"display:none;\">\n",
              "\n",
              "<svg xmlns=\"http://www.w3.org/2000/svg\" height=\"24px\"viewBox=\"0 0 24 24\"\n",
              "     width=\"24px\">\n",
              "    <g>\n",
              "        <path d=\"M19 3H5c-1.1 0-2 .9-2 2v14c0 1.1.9 2 2 2h14c1.1 0 2-.9 2-2V5c0-1.1-.9-2-2-2zM9 17H7v-7h2v7zm4 0h-2V7h2v10zm4 0h-2v-4h2v4z\"/>\n",
              "    </g>\n",
              "</svg>\n",
              "  </button>\n",
              "\n",
              "<style>\n",
              "  .colab-df-quickchart {\n",
              "      --bg-color: #E8F0FE;\n",
              "      --fill-color: #1967D2;\n",
              "      --hover-bg-color: #E2EBFA;\n",
              "      --hover-fill-color: #174EA6;\n",
              "      --disabled-fill-color: #AAA;\n",
              "      --disabled-bg-color: #DDD;\n",
              "  }\n",
              "\n",
              "  [theme=dark] .colab-df-quickchart {\n",
              "      --bg-color: #3B4455;\n",
              "      --fill-color: #D2E3FC;\n",
              "      --hover-bg-color: #434B5C;\n",
              "      --hover-fill-color: #FFFFFF;\n",
              "      --disabled-bg-color: #3B4455;\n",
              "      --disabled-fill-color: #666;\n",
              "  }\n",
              "\n",
              "  .colab-df-quickchart {\n",
              "    background-color: var(--bg-color);\n",
              "    border: none;\n",
              "    border-radius: 50%;\n",
              "    cursor: pointer;\n",
              "    display: none;\n",
              "    fill: var(--fill-color);\n",
              "    height: 32px;\n",
              "    padding: 0;\n",
              "    width: 32px;\n",
              "  }\n",
              "\n",
              "  .colab-df-quickchart:hover {\n",
              "    background-color: var(--hover-bg-color);\n",
              "    box-shadow: 0 1px 2px rgba(60, 64, 67, 0.3), 0 1px 3px 1px rgba(60, 64, 67, 0.15);\n",
              "    fill: var(--button-hover-fill-color);\n",
              "  }\n",
              "\n",
              "  .colab-df-quickchart-complete:disabled,\n",
              "  .colab-df-quickchart-complete:disabled:hover {\n",
              "    background-color: var(--disabled-bg-color);\n",
              "    fill: var(--disabled-fill-color);\n",
              "    box-shadow: none;\n",
              "  }\n",
              "\n",
              "  .colab-df-spinner {\n",
              "    border: 2px solid var(--fill-color);\n",
              "    border-color: transparent;\n",
              "    border-bottom-color: var(--fill-color);\n",
              "    animation:\n",
              "      spin 1s steps(1) infinite;\n",
              "  }\n",
              "\n",
              "  @keyframes spin {\n",
              "    0% {\n",
              "      border-color: transparent;\n",
              "      border-bottom-color: var(--fill-color);\n",
              "      border-left-color: var(--fill-color);\n",
              "    }\n",
              "    20% {\n",
              "      border-color: transparent;\n",
              "      border-left-color: var(--fill-color);\n",
              "      border-top-color: var(--fill-color);\n",
              "    }\n",
              "    30% {\n",
              "      border-color: transparent;\n",
              "      border-left-color: var(--fill-color);\n",
              "      border-top-color: var(--fill-color);\n",
              "      border-right-color: var(--fill-color);\n",
              "    }\n",
              "    40% {\n",
              "      border-color: transparent;\n",
              "      border-right-color: var(--fill-color);\n",
              "      border-top-color: var(--fill-color);\n",
              "    }\n",
              "    60% {\n",
              "      border-color: transparent;\n",
              "      border-right-color: var(--fill-color);\n",
              "    }\n",
              "    80% {\n",
              "      border-color: transparent;\n",
              "      border-right-color: var(--fill-color);\n",
              "      border-bottom-color: var(--fill-color);\n",
              "    }\n",
              "    90% {\n",
              "      border-color: transparent;\n",
              "      border-bottom-color: var(--fill-color);\n",
              "    }\n",
              "  }\n",
              "</style>\n",
              "\n",
              "  <script>\n",
              "    async function quickchart(key) {\n",
              "      const quickchartButtonEl =\n",
              "        document.querySelector('#' + key + ' button');\n",
              "      quickchartButtonEl.disabled = true;  // To prevent multiple clicks.\n",
              "      quickchartButtonEl.classList.add('colab-df-spinner');\n",
              "      try {\n",
              "        const charts = await google.colab.kernel.invokeFunction(\n",
              "            'suggestCharts', [key], {});\n",
              "      } catch (error) {\n",
              "        console.error('Error during call to suggestCharts:', error);\n",
              "      }\n",
              "      quickchartButtonEl.classList.remove('colab-df-spinner');\n",
              "      quickchartButtonEl.classList.add('colab-df-quickchart-complete');\n",
              "    }\n",
              "    (() => {\n",
              "      let quickchartButtonEl =\n",
              "        document.querySelector('#df-a0ee87b0-2351-4e8f-8e07-71fcc4d107bb button');\n",
              "      quickchartButtonEl.style.display =\n",
              "        google.colab.kernel.accessAllowed ? 'block' : 'none';\n",
              "    })();\n",
              "  </script>\n",
              "</div>\n",
              "\n",
              "    </div>\n",
              "  </div>\n"
            ],
            "application/vnd.google.colaboratory.intrinsic+json": {
              "type": "dataframe",
              "variable_name": "merged_data",
              "summary": "{\n  \"name\": \"merged_data\",\n  \"rows\": 3741,\n  \"fields\": [\n    {\n      \"column\": \"date\",\n      \"properties\": {\n        \"dtype\": \"date\",\n        \"min\": \"2015-01-01 00:00:00\",\n        \"max\": \"2025-03-29 00:00:00\",\n        \"num_unique_values\": 3741,\n        \"samples\": [\n          \"2024-04-19 00:00:00\",\n          \"2018-01-19 00:00:00\",\n          \"2015-12-18 00:00:00\"\n        ],\n        \"semantic_type\": \"\",\n        \"description\": \"\"\n      }\n    },\n    {\n      \"column\": \"btc_price\",\n      \"properties\": {\n        \"dtype\": \"number\",\n        \"std\": 24627.70533459367,\n        \"min\": 178.10299682617188,\n        \"max\": 106146.265625,\n        \"num_unique_values\": 3738,\n        \"samples\": [\n          10725.599609375,\n          623.9769897460938,\n          462.3219909667969\n        ],\n        \"semantic_type\": \"\",\n        \"description\": \"\"\n      }\n    },\n    {\n      \"column\": \"m2_supply\",\n      \"properties\": {\n        \"dtype\": \"number\",\n        \"std\": 3683.34718935313,\n        \"min\": 11788.8,\n        \"max\": 21749.6,\n        \"num_unique_values\": 122,\n        \"samples\": [\n          12889.7,\n          14241.4,\n          14382.6\n        ],\n        \"semantic_type\": \"\",\n        \"description\": \"\"\n      }\n    },\n    {\n      \"column\": \"cpi\",\n      \"properties\": {\n        \"dtype\": \"number\",\n        \"std\": 27.300658962247542,\n        \"min\": 234.747,\n        \"max\": 319.775,\n        \"num_unique_values\": 3684,\n        \"samples\": [\n          258.8495483870968,\n          284.525,\n          308.045\n        ],\n        \"semantic_type\": \"\",\n        \"description\": \"\"\n      }\n    },\n    {\n      \"column\": \"ppi\",\n      \"properties\": {\n        \"dtype\": \"number\",\n        \"std\": 30.130492115305522,\n        \"min\": 181.3,\n        \"max\": 280.251,\n        \"num_unique_values\": 3506,\n        \"samples\": [\n          256.4768,\n          184.52666666666667,\n          230.375\n        ],\n        \"semantic_type\": \"\",\n        \"description\": \"\"\n      }\n    },\n    {\n      \"column\": \"fed_funds_rate\",\n      \"properties\": {\n        \"dtype\": \"number\",\n        \"std\": 1.8841557330705518,\n        \"min\": 0.05,\n        \"max\": 5.33,\n        \"num_unique_values\": 70,\n        \"samples\": [\n          1.41,\n          0.11,\n          0.2\n        ],\n        \"semantic_type\": \"\",\n        \"description\": \"\"\n      }\n    },\n    {\n      \"column\": \"sp500\",\n      \"properties\": {\n        \"dtype\": \"number\",\n        \"std\": 1139.3737124648355,\n        \"min\": 1829.0799560546875,\n        \"max\": 6144.14990234375,\n        \"num_unique_values\": 2563,\n        \"samples\": [\n          2626.64990234375,\n          3990.56005859375,\n          3830.169921875\n        ],\n        \"semantic_type\": \"\",\n        \"description\": \"\"\n      }\n    },\n    {\n      \"column\": \"nasdaq\",\n      \"properties\": {\n        \"dtype\": \"number\",\n        \"std\": 4303.664183648683,\n        \"min\": 4266.83984375,\n        \"max\": 20173.890625,\n        \"num_unique_values\": 2567,\n        \"samples\": [\n          7028.47998046875,\n          12072.4599609375,\n          10852.26953125\n        ],\n        \"semantic_type\": \"\",\n        \"description\": \"\"\n      }\n    }\n  ]\n}"
            }
          },
          "metadata": {},
          "execution_count": 61
        }
      ]
    },
    {
      "cell_type": "code",
      "source": [
        "merged_data.info()"
      ],
      "metadata": {
        "colab": {
          "base_uri": "https://localhost:8080/"
        },
        "id": "tzLlyudPBNnq",
        "outputId": "892b19cc-dcb5-4ed7-9878-821c514fbe64"
      },
      "execution_count": null,
      "outputs": [
        {
          "output_type": "stream",
          "name": "stdout",
          "text": [
            "<class 'pandas.core.frame.DataFrame'>\n",
            "RangeIndex: 3741 entries, 0 to 3740\n",
            "Data columns (total 8 columns):\n",
            " #   Column          Non-Null Count  Dtype         \n",
            "---  ------          --------------  -----         \n",
            " 0   date            3741 non-null   datetime64[ns]\n",
            " 1   btc_price       3741 non-null   float64       \n",
            " 2   m2_supply       3741 non-null   float64       \n",
            " 3   cpi             3741 non-null   float64       \n",
            " 4   ppi             3741 non-null   float64       \n",
            " 5   fed_funds_rate  3741 non-null   float64       \n",
            " 6   sp500           3740 non-null   float64       \n",
            " 7   nasdaq          3740 non-null   float64       \n",
            "dtypes: datetime64[ns](1), float64(7)\n",
            "memory usage: 233.9 KB\n"
          ]
        }
      ]
    },
    {
      "cell_type": "markdown",
      "source": [
        "\n",
        "\n",
        "---\n",
        "\n",
        "\n",
        "**Bitcoin Trading Volume:**"
      ],
      "metadata": {
        "id": "5MmBKt0rH40M"
      }
    },
    {
      "cell_type": "markdown",
      "source": [
        "Bitcoin Trading Volume from Yahoo Finance"
      ],
      "metadata": {
        "id": "R_kMSpxfH9bC"
      }
    },
    {
      "cell_type": "code",
      "source": [
        "btc_volume = yf.download(\"BTC-USD\", start=\"2015-01-01\", end=\"2025-03-30\", interval=\"1d\")[['Volume']]\n",
        "btc_volume.rename(columns={'Volume': 'btc_volume'}, inplace=True)"
      ],
      "metadata": {
        "colab": {
          "base_uri": "https://localhost:8080/"
        },
        "id": "vdY6Xv-HHyNu",
        "outputId": "2a4df56f-e63b-4634-b474-05c923942754"
      },
      "execution_count": null,
      "outputs": [
        {
          "output_type": "stream",
          "name": "stderr",
          "text": [
            "\r[*********************100%***********************]  1 of 1 completed\n"
          ]
        }
      ]
    },
    {
      "cell_type": "code",
      "source": [
        "print(btc_volume.columns)\n",
        "print(merged_data.columns)"
      ],
      "metadata": {
        "colab": {
          "base_uri": "https://localhost:8080/"
        },
        "id": "hytS1lGKBcRl",
        "outputId": "64d7ce4e-1098-459a-8501-2bd0325f4166"
      },
      "execution_count": null,
      "outputs": [
        {
          "output_type": "stream",
          "name": "stdout",
          "text": [
            "MultiIndex([('btc_volume', 'BTC-USD')],\n",
            "           names=['Price', 'Ticker'])\n",
            "Index(['date', 'btc_price', 'm2_supply', 'cpi', 'ppi', 'fed_funds_rate',\n",
            "       'sp500', 'nasdaq'],\n",
            "      dtype='object')\n"
          ]
        }
      ]
    },
    {
      "cell_type": "code",
      "source": [
        "# Drop the second index level\n",
        "btc_volume.columns = btc_volume.columns.droplevel(1)"
      ],
      "metadata": {
        "id": "7LiUNQC-B2c9"
      },
      "execution_count": null,
      "outputs": []
    },
    {
      "cell_type": "code",
      "source": [
        "# Rename columns\n",
        "btc_volume.rename(columns={'btc_volume': 'btc_volume'}, inplace=True)"
      ],
      "metadata": {
        "id": "nktDEQROB-OU"
      },
      "execution_count": null,
      "outputs": []
    },
    {
      "cell_type": "code",
      "source": [
        "print(btc_volume.columns)\n",
        "print(merged_data.columns)"
      ],
      "metadata": {
        "colab": {
          "base_uri": "https://localhost:8080/"
        },
        "id": "3f4FPhyTCSlG",
        "outputId": "9f839cdd-f9ed-423d-8b84-ec876ad504a9"
      },
      "execution_count": null,
      "outputs": [
        {
          "output_type": "stream",
          "name": "stdout",
          "text": [
            "Index(['btc_volume'], dtype='object', name='Price')\n",
            "Index(['date', 'btc_price', 'm2_supply', 'cpi', 'ppi', 'fed_funds_rate',\n",
            "       'sp500', 'nasdaq'],\n",
            "      dtype='object')\n"
          ]
        }
      ]
    },
    {
      "cell_type": "code",
      "source": [
        "print(btc_volume.index)"
      ],
      "metadata": {
        "colab": {
          "base_uri": "https://localhost:8080/"
        },
        "id": "3UgAARhoCeTs",
        "outputId": "239ca722-d913-4923-c46d-4ce750489f89"
      },
      "execution_count": null,
      "outputs": [
        {
          "output_type": "stream",
          "name": "stdout",
          "text": [
            "DatetimeIndex(['2015-01-01', '2015-01-02', '2015-01-03', '2015-01-04',\n",
            "               '2015-01-05', '2015-01-06', '2015-01-07', '2015-01-08',\n",
            "               '2015-01-09', '2015-01-10',\n",
            "               ...\n",
            "               '2025-03-20', '2025-03-21', '2025-03-22', '2025-03-23',\n",
            "               '2025-03-24', '2025-03-25', '2025-03-26', '2025-03-27',\n",
            "               '2025-03-28', '2025-03-29'],\n",
            "              dtype='datetime64[ns]', name='Date', length=3741, freq=None)\n"
          ]
        }
      ]
    },
    {
      "cell_type": "code",
      "source": [
        "btc_volume = btc_volume.reset_index()  # Moves 'Date' from index to column\n",
        "btc_volume.rename(columns={'Date': 'date'}, inplace=True)  # Match 'merged_data'"
      ],
      "metadata": {
        "id": "YJzHl9GlCvSK"
      },
      "execution_count": null,
      "outputs": []
    },
    {
      "cell_type": "code",
      "source": [
        "btc_volume['date'] = pd.to_datetime(btc_volume['date']).dt.normalize()\n",
        "merged_data['date'] = pd.to_datetime(merged_data['date']).dt.normalize()"
      ],
      "metadata": {
        "id": "cU_hB8G2H_9N"
      },
      "execution_count": null,
      "outputs": []
    },
    {
      "cell_type": "code",
      "source": [
        "merged_data = merged_data.merge(btc_volume[['date', 'btc_volume']], on='date', how='left')"
      ],
      "metadata": {
        "id": "rrT_a8tFC5VC"
      },
      "execution_count": null,
      "outputs": []
    },
    {
      "cell_type": "code",
      "source": [
        "merged_data.info()"
      ],
      "metadata": {
        "colab": {
          "base_uri": "https://localhost:8080/"
        },
        "id": "l7cyqbCdDAAh",
        "outputId": "9d13cff3-48a8-4a56-aede-c5d02ea84aee"
      },
      "execution_count": null,
      "outputs": [
        {
          "output_type": "stream",
          "name": "stdout",
          "text": [
            "<class 'pandas.core.frame.DataFrame'>\n",
            "RangeIndex: 3741 entries, 0 to 3740\n",
            "Data columns (total 9 columns):\n",
            " #   Column          Non-Null Count  Dtype         \n",
            "---  ------          --------------  -----         \n",
            " 0   date            3741 non-null   datetime64[ns]\n",
            " 1   btc_price       3741 non-null   float64       \n",
            " 2   m2_supply       3741 non-null   float64       \n",
            " 3   cpi             3741 non-null   float64       \n",
            " 4   ppi             3741 non-null   float64       \n",
            " 5   fed_funds_rate  3741 non-null   float64       \n",
            " 6   sp500           3740 non-null   float64       \n",
            " 7   nasdaq          3740 non-null   float64       \n",
            " 8   btc_volume      3741 non-null   int64         \n",
            "dtypes: datetime64[ns](1), float64(7), int64(1)\n",
            "memory usage: 263.2 KB\n"
          ]
        }
      ]
    },
    {
      "cell_type": "code",
      "source": [
        "merged_data.head()"
      ],
      "metadata": {
        "colab": {
          "base_uri": "https://localhost:8080/",
          "height": 206
        },
        "id": "tbENQj3pDCpd",
        "outputId": "b59454c0-a347-4869-fdd3-4aff16c7e249"
      },
      "execution_count": null,
      "outputs": [
        {
          "output_type": "execute_result",
          "data": {
            "text/plain": [
              "        date   btc_price  m2_supply         cpi         ppi  fed_funds_rate  \\\n",
              "0 2015-01-01  314.248993    11788.8  234.747000  192.000000            0.11   \n",
              "1 2015-01-02  315.032013    11788.8  234.766194  191.970968            0.11   \n",
              "2 2015-01-03  281.082001    11788.8  234.785387  191.941935            0.11   \n",
              "3 2015-01-04  264.195007    11788.8  234.804581  191.912903            0.11   \n",
              "4 2015-01-05  274.473999    11788.8  234.823774  191.883871            0.11   \n",
              "\n",
              "         sp500       nasdaq  btc_volume  \n",
              "0          NaN          NaN     8036550  \n",
              "1  2058.199951  4726.810059     7860650  \n",
              "2  2058.199951  4726.810059    33054400  \n",
              "3  2058.199951  4726.810059    55629100  \n",
              "4  2020.579956  4652.569824    43962800  "
            ],
            "text/html": [
              "\n",
              "  <div id=\"df-1645ccd5-1b4d-4983-b1a2-4f8713bf20d1\" class=\"colab-df-container\">\n",
              "    <div>\n",
              "<style scoped>\n",
              "    .dataframe tbody tr th:only-of-type {\n",
              "        vertical-align: middle;\n",
              "    }\n",
              "\n",
              "    .dataframe tbody tr th {\n",
              "        vertical-align: top;\n",
              "    }\n",
              "\n",
              "    .dataframe thead th {\n",
              "        text-align: right;\n",
              "    }\n",
              "</style>\n",
              "<table border=\"1\" class=\"dataframe\">\n",
              "  <thead>\n",
              "    <tr style=\"text-align: right;\">\n",
              "      <th></th>\n",
              "      <th>date</th>\n",
              "      <th>btc_price</th>\n",
              "      <th>m2_supply</th>\n",
              "      <th>cpi</th>\n",
              "      <th>ppi</th>\n",
              "      <th>fed_funds_rate</th>\n",
              "      <th>sp500</th>\n",
              "      <th>nasdaq</th>\n",
              "      <th>btc_volume</th>\n",
              "    </tr>\n",
              "  </thead>\n",
              "  <tbody>\n",
              "    <tr>\n",
              "      <th>0</th>\n",
              "      <td>2015-01-01</td>\n",
              "      <td>314.248993</td>\n",
              "      <td>11788.8</td>\n",
              "      <td>234.747000</td>\n",
              "      <td>192.000000</td>\n",
              "      <td>0.11</td>\n",
              "      <td>NaN</td>\n",
              "      <td>NaN</td>\n",
              "      <td>8036550</td>\n",
              "    </tr>\n",
              "    <tr>\n",
              "      <th>1</th>\n",
              "      <td>2015-01-02</td>\n",
              "      <td>315.032013</td>\n",
              "      <td>11788.8</td>\n",
              "      <td>234.766194</td>\n",
              "      <td>191.970968</td>\n",
              "      <td>0.11</td>\n",
              "      <td>2058.199951</td>\n",
              "      <td>4726.810059</td>\n",
              "      <td>7860650</td>\n",
              "    </tr>\n",
              "    <tr>\n",
              "      <th>2</th>\n",
              "      <td>2015-01-03</td>\n",
              "      <td>281.082001</td>\n",
              "      <td>11788.8</td>\n",
              "      <td>234.785387</td>\n",
              "      <td>191.941935</td>\n",
              "      <td>0.11</td>\n",
              "      <td>2058.199951</td>\n",
              "      <td>4726.810059</td>\n",
              "      <td>33054400</td>\n",
              "    </tr>\n",
              "    <tr>\n",
              "      <th>3</th>\n",
              "      <td>2015-01-04</td>\n",
              "      <td>264.195007</td>\n",
              "      <td>11788.8</td>\n",
              "      <td>234.804581</td>\n",
              "      <td>191.912903</td>\n",
              "      <td>0.11</td>\n",
              "      <td>2058.199951</td>\n",
              "      <td>4726.810059</td>\n",
              "      <td>55629100</td>\n",
              "    </tr>\n",
              "    <tr>\n",
              "      <th>4</th>\n",
              "      <td>2015-01-05</td>\n",
              "      <td>274.473999</td>\n",
              "      <td>11788.8</td>\n",
              "      <td>234.823774</td>\n",
              "      <td>191.883871</td>\n",
              "      <td>0.11</td>\n",
              "      <td>2020.579956</td>\n",
              "      <td>4652.569824</td>\n",
              "      <td>43962800</td>\n",
              "    </tr>\n",
              "  </tbody>\n",
              "</table>\n",
              "</div>\n",
              "    <div class=\"colab-df-buttons\">\n",
              "\n",
              "  <div class=\"colab-df-container\">\n",
              "    <button class=\"colab-df-convert\" onclick=\"convertToInteractive('df-1645ccd5-1b4d-4983-b1a2-4f8713bf20d1')\"\n",
              "            title=\"Convert this dataframe to an interactive table.\"\n",
              "            style=\"display:none;\">\n",
              "\n",
              "  <svg xmlns=\"http://www.w3.org/2000/svg\" height=\"24px\" viewBox=\"0 -960 960 960\">\n",
              "    <path d=\"M120-120v-720h720v720H120Zm60-500h600v-160H180v160Zm220 220h160v-160H400v160Zm0 220h160v-160H400v160ZM180-400h160v-160H180v160Zm440 0h160v-160H620v160ZM180-180h160v-160H180v160Zm440 0h160v-160H620v160Z\"/>\n",
              "  </svg>\n",
              "    </button>\n",
              "\n",
              "  <style>\n",
              "    .colab-df-container {\n",
              "      display:flex;\n",
              "      gap: 12px;\n",
              "    }\n",
              "\n",
              "    .colab-df-convert {\n",
              "      background-color: #E8F0FE;\n",
              "      border: none;\n",
              "      border-radius: 50%;\n",
              "      cursor: pointer;\n",
              "      display: none;\n",
              "      fill: #1967D2;\n",
              "      height: 32px;\n",
              "      padding: 0 0 0 0;\n",
              "      width: 32px;\n",
              "    }\n",
              "\n",
              "    .colab-df-convert:hover {\n",
              "      background-color: #E2EBFA;\n",
              "      box-shadow: 0px 1px 2px rgba(60, 64, 67, 0.3), 0px 1px 3px 1px rgba(60, 64, 67, 0.15);\n",
              "      fill: #174EA6;\n",
              "    }\n",
              "\n",
              "    .colab-df-buttons div {\n",
              "      margin-bottom: 4px;\n",
              "    }\n",
              "\n",
              "    [theme=dark] .colab-df-convert {\n",
              "      background-color: #3B4455;\n",
              "      fill: #D2E3FC;\n",
              "    }\n",
              "\n",
              "    [theme=dark] .colab-df-convert:hover {\n",
              "      background-color: #434B5C;\n",
              "      box-shadow: 0px 1px 3px 1px rgba(0, 0, 0, 0.15);\n",
              "      filter: drop-shadow(0px 1px 2px rgba(0, 0, 0, 0.3));\n",
              "      fill: #FFFFFF;\n",
              "    }\n",
              "  </style>\n",
              "\n",
              "    <script>\n",
              "      const buttonEl =\n",
              "        document.querySelector('#df-1645ccd5-1b4d-4983-b1a2-4f8713bf20d1 button.colab-df-convert');\n",
              "      buttonEl.style.display =\n",
              "        google.colab.kernel.accessAllowed ? 'block' : 'none';\n",
              "\n",
              "      async function convertToInteractive(key) {\n",
              "        const element = document.querySelector('#df-1645ccd5-1b4d-4983-b1a2-4f8713bf20d1');\n",
              "        const dataTable =\n",
              "          await google.colab.kernel.invokeFunction('convertToInteractive',\n",
              "                                                    [key], {});\n",
              "        if (!dataTable) return;\n",
              "\n",
              "        const docLinkHtml = 'Like what you see? Visit the ' +\n",
              "          '<a target=\"_blank\" href=https://colab.research.google.com/notebooks/data_table.ipynb>data table notebook</a>'\n",
              "          + ' to learn more about interactive tables.';\n",
              "        element.innerHTML = '';\n",
              "        dataTable['output_type'] = 'display_data';\n",
              "        await google.colab.output.renderOutput(dataTable, element);\n",
              "        const docLink = document.createElement('div');\n",
              "        docLink.innerHTML = docLinkHtml;\n",
              "        element.appendChild(docLink);\n",
              "      }\n",
              "    </script>\n",
              "  </div>\n",
              "\n",
              "\n",
              "<div id=\"df-fcd34f7d-ef98-4165-99f6-6678fbd17ea3\">\n",
              "  <button class=\"colab-df-quickchart\" onclick=\"quickchart('df-fcd34f7d-ef98-4165-99f6-6678fbd17ea3')\"\n",
              "            title=\"Suggest charts\"\n",
              "            style=\"display:none;\">\n",
              "\n",
              "<svg xmlns=\"http://www.w3.org/2000/svg\" height=\"24px\"viewBox=\"0 0 24 24\"\n",
              "     width=\"24px\">\n",
              "    <g>\n",
              "        <path d=\"M19 3H5c-1.1 0-2 .9-2 2v14c0 1.1.9 2 2 2h14c1.1 0 2-.9 2-2V5c0-1.1-.9-2-2-2zM9 17H7v-7h2v7zm4 0h-2V7h2v10zm4 0h-2v-4h2v4z\"/>\n",
              "    </g>\n",
              "</svg>\n",
              "  </button>\n",
              "\n",
              "<style>\n",
              "  .colab-df-quickchart {\n",
              "      --bg-color: #E8F0FE;\n",
              "      --fill-color: #1967D2;\n",
              "      --hover-bg-color: #E2EBFA;\n",
              "      --hover-fill-color: #174EA6;\n",
              "      --disabled-fill-color: #AAA;\n",
              "      --disabled-bg-color: #DDD;\n",
              "  }\n",
              "\n",
              "  [theme=dark] .colab-df-quickchart {\n",
              "      --bg-color: #3B4455;\n",
              "      --fill-color: #D2E3FC;\n",
              "      --hover-bg-color: #434B5C;\n",
              "      --hover-fill-color: #FFFFFF;\n",
              "      --disabled-bg-color: #3B4455;\n",
              "      --disabled-fill-color: #666;\n",
              "  }\n",
              "\n",
              "  .colab-df-quickchart {\n",
              "    background-color: var(--bg-color);\n",
              "    border: none;\n",
              "    border-radius: 50%;\n",
              "    cursor: pointer;\n",
              "    display: none;\n",
              "    fill: var(--fill-color);\n",
              "    height: 32px;\n",
              "    padding: 0;\n",
              "    width: 32px;\n",
              "  }\n",
              "\n",
              "  .colab-df-quickchart:hover {\n",
              "    background-color: var(--hover-bg-color);\n",
              "    box-shadow: 0 1px 2px rgba(60, 64, 67, 0.3), 0 1px 3px 1px rgba(60, 64, 67, 0.15);\n",
              "    fill: var(--button-hover-fill-color);\n",
              "  }\n",
              "\n",
              "  .colab-df-quickchart-complete:disabled,\n",
              "  .colab-df-quickchart-complete:disabled:hover {\n",
              "    background-color: var(--disabled-bg-color);\n",
              "    fill: var(--disabled-fill-color);\n",
              "    box-shadow: none;\n",
              "  }\n",
              "\n",
              "  .colab-df-spinner {\n",
              "    border: 2px solid var(--fill-color);\n",
              "    border-color: transparent;\n",
              "    border-bottom-color: var(--fill-color);\n",
              "    animation:\n",
              "      spin 1s steps(1) infinite;\n",
              "  }\n",
              "\n",
              "  @keyframes spin {\n",
              "    0% {\n",
              "      border-color: transparent;\n",
              "      border-bottom-color: var(--fill-color);\n",
              "      border-left-color: var(--fill-color);\n",
              "    }\n",
              "    20% {\n",
              "      border-color: transparent;\n",
              "      border-left-color: var(--fill-color);\n",
              "      border-top-color: var(--fill-color);\n",
              "    }\n",
              "    30% {\n",
              "      border-color: transparent;\n",
              "      border-left-color: var(--fill-color);\n",
              "      border-top-color: var(--fill-color);\n",
              "      border-right-color: var(--fill-color);\n",
              "    }\n",
              "    40% {\n",
              "      border-color: transparent;\n",
              "      border-right-color: var(--fill-color);\n",
              "      border-top-color: var(--fill-color);\n",
              "    }\n",
              "    60% {\n",
              "      border-color: transparent;\n",
              "      border-right-color: var(--fill-color);\n",
              "    }\n",
              "    80% {\n",
              "      border-color: transparent;\n",
              "      border-right-color: var(--fill-color);\n",
              "      border-bottom-color: var(--fill-color);\n",
              "    }\n",
              "    90% {\n",
              "      border-color: transparent;\n",
              "      border-bottom-color: var(--fill-color);\n",
              "    }\n",
              "  }\n",
              "</style>\n",
              "\n",
              "  <script>\n",
              "    async function quickchart(key) {\n",
              "      const quickchartButtonEl =\n",
              "        document.querySelector('#' + key + ' button');\n",
              "      quickchartButtonEl.disabled = true;  // To prevent multiple clicks.\n",
              "      quickchartButtonEl.classList.add('colab-df-spinner');\n",
              "      try {\n",
              "        const charts = await google.colab.kernel.invokeFunction(\n",
              "            'suggestCharts', [key], {});\n",
              "      } catch (error) {\n",
              "        console.error('Error during call to suggestCharts:', error);\n",
              "      }\n",
              "      quickchartButtonEl.classList.remove('colab-df-spinner');\n",
              "      quickchartButtonEl.classList.add('colab-df-quickchart-complete');\n",
              "    }\n",
              "    (() => {\n",
              "      let quickchartButtonEl =\n",
              "        document.querySelector('#df-fcd34f7d-ef98-4165-99f6-6678fbd17ea3 button');\n",
              "      quickchartButtonEl.style.display =\n",
              "        google.colab.kernel.accessAllowed ? 'block' : 'none';\n",
              "    })();\n",
              "  </script>\n",
              "</div>\n",
              "\n",
              "    </div>\n",
              "  </div>\n"
            ],
            "application/vnd.google.colaboratory.intrinsic+json": {
              "type": "dataframe",
              "variable_name": "merged_data",
              "summary": "{\n  \"name\": \"merged_data\",\n  \"rows\": 3741,\n  \"fields\": [\n    {\n      \"column\": \"date\",\n      \"properties\": {\n        \"dtype\": \"date\",\n        \"min\": \"2015-01-01 00:00:00\",\n        \"max\": \"2025-03-29 00:00:00\",\n        \"num_unique_values\": 3741,\n        \"samples\": [\n          \"2024-04-19 00:00:00\",\n          \"2018-01-19 00:00:00\",\n          \"2015-12-18 00:00:00\"\n        ],\n        \"semantic_type\": \"\",\n        \"description\": \"\"\n      }\n    },\n    {\n      \"column\": \"btc_price\",\n      \"properties\": {\n        \"dtype\": \"number\",\n        \"std\": 24627.70533459367,\n        \"min\": 178.10299682617188,\n        \"max\": 106146.265625,\n        \"num_unique_values\": 3738,\n        \"samples\": [\n          10725.599609375,\n          623.9769897460938,\n          462.3219909667969\n        ],\n        \"semantic_type\": \"\",\n        \"description\": \"\"\n      }\n    },\n    {\n      \"column\": \"m2_supply\",\n      \"properties\": {\n        \"dtype\": \"number\",\n        \"std\": 3683.34718935313,\n        \"min\": 11788.8,\n        \"max\": 21749.6,\n        \"num_unique_values\": 122,\n        \"samples\": [\n          12889.7,\n          14241.4,\n          14382.6\n        ],\n        \"semantic_type\": \"\",\n        \"description\": \"\"\n      }\n    },\n    {\n      \"column\": \"cpi\",\n      \"properties\": {\n        \"dtype\": \"number\",\n        \"std\": 27.300658962247542,\n        \"min\": 234.747,\n        \"max\": 319.775,\n        \"num_unique_values\": 3684,\n        \"samples\": [\n          258.8495483870968,\n          284.525,\n          308.045\n        ],\n        \"semantic_type\": \"\",\n        \"description\": \"\"\n      }\n    },\n    {\n      \"column\": \"ppi\",\n      \"properties\": {\n        \"dtype\": \"number\",\n        \"std\": 30.130492115305522,\n        \"min\": 181.3,\n        \"max\": 280.251,\n        \"num_unique_values\": 3506,\n        \"samples\": [\n          256.4768,\n          184.52666666666667,\n          230.375\n        ],\n        \"semantic_type\": \"\",\n        \"description\": \"\"\n      }\n    },\n    {\n      \"column\": \"fed_funds_rate\",\n      \"properties\": {\n        \"dtype\": \"number\",\n        \"std\": 1.8841557330705518,\n        \"min\": 0.05,\n        \"max\": 5.33,\n        \"num_unique_values\": 70,\n        \"samples\": [\n          1.41,\n          0.11,\n          0.2\n        ],\n        \"semantic_type\": \"\",\n        \"description\": \"\"\n      }\n    },\n    {\n      \"column\": \"sp500\",\n      \"properties\": {\n        \"dtype\": \"number\",\n        \"std\": 1139.3737124648355,\n        \"min\": 1829.0799560546875,\n        \"max\": 6144.14990234375,\n        \"num_unique_values\": 2563,\n        \"samples\": [\n          2626.64990234375,\n          3990.56005859375,\n          3830.169921875\n        ],\n        \"semantic_type\": \"\",\n        \"description\": \"\"\n      }\n    },\n    {\n      \"column\": \"nasdaq\",\n      \"properties\": {\n        \"dtype\": \"number\",\n        \"std\": 4303.664183648683,\n        \"min\": 4266.83984375,\n        \"max\": 20173.890625,\n        \"num_unique_values\": 2567,\n        \"samples\": [\n          7028.47998046875,\n          12072.4599609375,\n          10852.26953125\n        ],\n        \"semantic_type\": \"\",\n        \"description\": \"\"\n      }\n    },\n    {\n      \"column\": \"btc_volume\",\n      \"properties\": {\n        \"dtype\": \"number\",\n        \"std\": 20830156824,\n        \"min\": 7860650,\n        \"max\": 350967941479,\n        \"num_unique_values\": 3741,\n        \"samples\": [\n          49920425401,\n          10740400128,\n          60220100\n        ],\n        \"semantic_type\": \"\",\n        \"description\": \"\"\n      }\n    }\n  ]\n}"
            }
          },
          "metadata": {},
          "execution_count": 78
        }
      ]
    },
    {
      "cell_type": "markdown",
      "source": [
        "Save data:"
      ],
      "metadata": {
        "id": "TczuzP28D8gQ"
      }
    },
    {
      "cell_type": "code",
      "source": [
        "merged_data.to_csv('merged_data.csv', index=False)"
      ],
      "metadata": {
        "id": "mnqADhsIDE2G"
      },
      "execution_count": null,
      "outputs": []
    },
    {
      "cell_type": "code",
      "source": [
        "from google.colab import files\n",
        "files.download('merged_data.csv')"
      ],
      "metadata": {
        "colab": {
          "base_uri": "https://localhost:8080/",
          "height": 17
        },
        "id": "PQXLv1n1D98F",
        "outputId": "0b04f2f9-7cce-4be3-82f4-fb359f9a8cd5"
      },
      "execution_count": null,
      "outputs": [
        {
          "output_type": "display_data",
          "data": {
            "text/plain": [
              "<IPython.core.display.Javascript object>"
            ],
            "application/javascript": [
              "\n",
              "    async function download(id, filename, size) {\n",
              "      if (!google.colab.kernel.accessAllowed) {\n",
              "        return;\n",
              "      }\n",
              "      const div = document.createElement('div');\n",
              "      const label = document.createElement('label');\n",
              "      label.textContent = `Downloading \"${filename}\": `;\n",
              "      div.appendChild(label);\n",
              "      const progress = document.createElement('progress');\n",
              "      progress.max = size;\n",
              "      div.appendChild(progress);\n",
              "      document.body.appendChild(div);\n",
              "\n",
              "      const buffers = [];\n",
              "      let downloaded = 0;\n",
              "\n",
              "      const channel = await google.colab.kernel.comms.open(id);\n",
              "      // Send a message to notify the kernel that we're ready.\n",
              "      channel.send({})\n",
              "\n",
              "      for await (const message of channel.messages) {\n",
              "        // Send a message to notify the kernel that we're ready.\n",
              "        channel.send({})\n",
              "        if (message.buffers) {\n",
              "          for (const buffer of message.buffers) {\n",
              "            buffers.push(buffer);\n",
              "            downloaded += buffer.byteLength;\n",
              "            progress.value = downloaded;\n",
              "          }\n",
              "        }\n",
              "      }\n",
              "      const blob = new Blob(buffers, {type: 'application/binary'});\n",
              "      const a = document.createElement('a');\n",
              "      a.href = window.URL.createObjectURL(blob);\n",
              "      a.download = filename;\n",
              "      div.appendChild(a);\n",
              "      a.click();\n",
              "      div.remove();\n",
              "    }\n",
              "  "
            ]
          },
          "metadata": {}
        },
        {
          "output_type": "display_data",
          "data": {
            "text/plain": [
              "<IPython.core.display.Javascript object>"
            ],
            "application/javascript": [
              "download(\"download_6cd8f611-c0e1-46da-adda-abf38afd0db4\", \"merged_data.csv\", 434386)"
            ]
          },
          "metadata": {}
        }
      ]
    }
  ]
}